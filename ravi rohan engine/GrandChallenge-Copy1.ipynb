{
 "cells": [
  {
   "cell_type": "markdown",
   "id": "a2fb2cd8-f2a6-4202-a212-a0d548998d80",
   "metadata": {},
   "source": [
    "Library Import"
   ]
  },
  {
   "cell_type": "code",
   "execution_count": 1,
   "id": "118a4844-8d3e-4fb9-8aa1-db5c51e2090f",
   "metadata": {
    "tags": []
   },
   "outputs": [],
   "source": [
    "# Importing standard Qiskit libraries\n",
    "from qiskit import QuantumCircuit, transpile,BasicAer\n",
    "from qiskit.tools.jupyter import *\n",
    "from qiskit.visualization import *\n",
    "# from ibm_quantum_widgets import *\n",
    "from qiskit_aer import AerSimulator\n",
    "from qiskit.algorithms.optimizers import SPSA\n",
    "import pandas as pd\n",
    "from qiskit.circuit import ParameterVector\n",
    "from qiskit.visualization import circuit_drawer\n",
    "\n",
    "\n",
    "# qiskit-ibmq-provider has been deprecated.\n",
    "# Please see the Migration Guides in https://ibm.biz/provider_migration_guide for more detail.\n",
    "from qiskit_ibm_runtime import QiskitRuntimeService, Sampler, Estimator, Session, Options\n",
    "\n",
    "# Loading your IBM Quantum account(s)\n",
    "# service = QiskitRuntimeService(channel=\"ibm_quantum\")\n",
    "from pylab import cm\n",
    "from sklearn import metrics\n",
    "from sklearn.model_selection import train_test_split\n",
    "import matplotlib.pyplot as plt\n",
    "import numpy as np\n",
    "from qiskit.circuit.library import ZZFeatureMap\n",
    "from qiskit_machine_learning.kernels import TrainableFidelityQuantumKernel\n",
    "from qiskit_machine_learning.kernels.algorithms import QuantumKernelTrainer\n",
    "from qiskit_machine_learning.algorithms import QSVC\n",
    "# Invoke a primitive inside a session. For more details see https://qiskit.org/documentation/partners/qiskit_ibm_runtime/tutorials.html\n",
    "# with Session(backend=service.backend(\"ibmq_qasm_simulator\")):\n",
    "#     result = Sampler().run(circuits).result()"
   ]
  },
  {
   "cell_type": "code",
   "execution_count": 2,
   "id": "874ffdc8-8f3e-4943-ba2f-77174ca80104",
   "metadata": {
    "tags": []
   },
   "outputs": [],
   "source": [
    "class QKTCallback:\n",
    "    \"\"\"Callback wrapper class.\"\"\"\n",
    "\n",
    "    def __init__(self) -> None:\n",
    "        self._data = [[] for i in range(5)]\n",
    "\n",
    "    def callback(self, x0, x1=None, x2=None, x3=None, x4=None):\n",
    "        \"\"\"\n",
    "        Args:\n",
    "            x0: number of function evaluations\n",
    "            x1: the parameters\n",
    "            x2: the function value\n",
    "            x3: the stepsize\n",
    "            x4: whether the step was accepted\n",
    "        \"\"\"\n",
    "        self._data[0].append(x0)\n",
    "        self._data[1].append(x1)\n",
    "        self._data[2].append(x2)\n",
    "        self._data[3].append(x3)\n",
    "        self._data[4].append(x4)\n",
    "\n",
    "    def get_callback_data(self):\n",
    "        return self._data\n",
    "\n",
    "    def clear_callback_data(self):\n",
    "        self._data = [[] for i in range(5)]"
   ]
  },
  {
   "cell_type": "markdown",
   "id": "1070377f-5f5c-4afb-a76e-68785178fc70",
   "metadata": {},
   "source": [
    "Preparing the Dataset"
   ]
  },
  {
   "cell_type": "code",
   "execution_count": 3,
   "id": "1fd88628-4c40-4ad7-8a2c-4ded12ad5bd9",
   "metadata": {},
   "outputs": [
    {
     "data": {
      "text/html": [
       "<div>\n",
       "<style scoped>\n",
       "    .dataframe tbody tr th:only-of-type {\n",
       "        vertical-align: middle;\n",
       "    }\n",
       "\n",
       "    .dataframe tbody tr th {\n",
       "        vertical-align: top;\n",
       "    }\n",
       "\n",
       "    .dataframe thead th {\n",
       "        text-align: right;\n",
       "    }\n",
       "</style>\n",
       "<table border=\"1\" class=\"dataframe\">\n",
       "  <thead>\n",
       "    <tr style=\"text-align: right;\">\n",
       "      <th></th>\n",
       "      <th>Coolant temp</th>\n",
       "      <th>Fuel pressure</th>\n",
       "      <th>LOG(Engine rpm)</th>\n",
       "      <th>LOG(Lub oil pressure)</th>\n",
       "      <th>LOG(Coolant pressure)</th>\n",
       "      <th>lub oil temp</th>\n",
       "    </tr>\n",
       "  </thead>\n",
       "  <tbody>\n",
       "    <tr>\n",
       "      <th>0</th>\n",
       "      <td>-0.108643</td>\n",
       "      <td>-0.458618</td>\n",
       "      <td>-1.122023</td>\n",
       "      <td>-0.945244</td>\n",
       "      <td>2.504221</td>\n",
       "      <td>-1.053616</td>\n",
       "    </tr>\n",
       "    <tr>\n",
       "      <th>1</th>\n",
       "      <td>-0.270546</td>\n",
       "      <td>-0.467818</td>\n",
       "      <td>0.572158</td>\n",
       "      <td>0.821692</td>\n",
       "      <td>-0.386126</td>\n",
       "      <td>-0.342973</td>\n",
       "    </tr>\n",
       "    <tr>\n",
       "      <th>2</th>\n",
       "      <td>0.434519</td>\n",
       "      <td>0.943128</td>\n",
       "      <td>-0.368585</td>\n",
       "      <td>-0.357813</td>\n",
       "      <td>-0.804757</td>\n",
       "      <td>-0.731751</td>\n",
       "    </tr>\n",
       "    <tr>\n",
       "      <th>3</th>\n",
       "      <td>0.358127</td>\n",
       "      <td>-0.676976</td>\n",
       "      <td>0.087629</td>\n",
       "      <td>-9.286989</td>\n",
       "      <td>0.962594</td>\n",
       "      <td>1.208524</td>\n",
       "    </tr>\n",
       "    <tr>\n",
       "      <th>4</th>\n",
       "      <td>0.710329</td>\n",
       "      <td>-1.689018</td>\n",
       "      <td>-0.300498</td>\n",
       "      <td>0.580295</td>\n",
       "      <td>0.220930</td>\n",
       "      <td>0.659805</td>\n",
       "    </tr>\n",
       "    <tr>\n",
       "      <th>...</th>\n",
       "      <td>...</td>\n",
       "      <td>...</td>\n",
       "      <td>...</td>\n",
       "      <td>...</td>\n",
       "      <td>...</td>\n",
       "      <td>...</td>\n",
       "    </tr>\n",
       "    <tr>\n",
       "      <th>1195</th>\n",
       "      <td>0.002870</td>\n",
       "      <td>0.031966</td>\n",
       "      <td>0.555103</td>\n",
       "      <td>0.660490</td>\n",
       "      <td>1.108182</td>\n",
       "      <td>-0.584349</td>\n",
       "    </tr>\n",
       "    <tr>\n",
       "      <th>1196</th>\n",
       "      <td>0.898031</td>\n",
       "      <td>-1.843809</td>\n",
       "      <td>0.283783</td>\n",
       "      <td>0.509437</td>\n",
       "      <td>0.565864</td>\n",
       "      <td>0.733411</td>\n",
       "    </tr>\n",
       "    <tr>\n",
       "      <th>1197</th>\n",
       "      <td>0.308100</td>\n",
       "      <td>-0.268417</td>\n",
       "      <td>1.335523</td>\n",
       "      <td>0.440793</td>\n",
       "      <td>0.019946</td>\n",
       "      <td>-0.341390</td>\n",
       "    </tr>\n",
       "    <tr>\n",
       "      <th>1198</th>\n",
       "      <td>-0.430117</td>\n",
       "      <td>2.765807</td>\n",
       "      <td>-0.621706</td>\n",
       "      <td>0.292100</td>\n",
       "      <td>-0.100907</td>\n",
       "      <td>-0.596006</td>\n",
       "    </tr>\n",
       "    <tr>\n",
       "      <th>1199</th>\n",
       "      <td>-0.639572</td>\n",
       "      <td>0.431094</td>\n",
       "      <td>-0.264779</td>\n",
       "      <td>-0.098546</td>\n",
       "      <td>-1.078083</td>\n",
       "      <td>-0.204911</td>\n",
       "    </tr>\n",
       "  </tbody>\n",
       "</table>\n",
       "<p>1200 rows × 6 columns</p>\n",
       "</div>"
      ],
      "text/plain": [
       "      Coolant temp  Fuel pressure  LOG(Engine rpm)  LOG(Lub oil pressure)  \\\n",
       "0        -0.108643      -0.458618        -1.122023              -0.945244   \n",
       "1        -0.270546      -0.467818         0.572158               0.821692   \n",
       "2         0.434519       0.943128        -0.368585              -0.357813   \n",
       "3         0.358127      -0.676976         0.087629              -9.286989   \n",
       "4         0.710329      -1.689018        -0.300498               0.580295   \n",
       "...            ...            ...              ...                    ...   \n",
       "1195      0.002870       0.031966         0.555103               0.660490   \n",
       "1196      0.898031      -1.843809         0.283783               0.509437   \n",
       "1197      0.308100      -0.268417         1.335523               0.440793   \n",
       "1198     -0.430117       2.765807        -0.621706               0.292100   \n",
       "1199     -0.639572       0.431094        -0.264779              -0.098546   \n",
       "\n",
       "      LOG(Coolant pressure)  lub oil temp  \n",
       "0                  2.504221     -1.053616  \n",
       "1                 -0.386126     -0.342973  \n",
       "2                 -0.804757     -0.731751  \n",
       "3                  0.962594      1.208524  \n",
       "4                  0.220930      0.659805  \n",
       "...                     ...           ...  \n",
       "1195               1.108182     -0.584349  \n",
       "1196               0.565864      0.733411  \n",
       "1197               0.019946     -0.341390  \n",
       "1198              -0.100907     -0.596006  \n",
       "1199              -1.078083     -0.204911  \n",
       "\n",
       "[1200 rows x 6 columns]"
      ]
     },
     "execution_count": 3,
     "metadata": {},
     "output_type": "execute_result"
    }
   ],
   "source": [
    "df = pd.read_csv(r'STANDARDIZED SAMPLE.csv')\n",
    "ytrain= df.iloc[:,7]\n",
    "Xtrain= df.iloc[:,1:7]\n",
    "Xtrain"
   ]
  },
  {
   "cell_type": "code",
   "execution_count": null,
   "id": "10e356e0-2137-4cab-87e3-c67da723b426",
   "metadata": {},
   "outputs": [],
   "source": []
  },
  {
   "cell_type": "code",
   "execution_count": 4,
   "id": "1f0f5e53-9205-4225-aa88-c5d3a8afe3e9",
   "metadata": {
    "tags": []
   },
   "outputs": [],
   "source": [
    "#To reduce training dataset size\n",
    "Xtrain,Xtest , ytrain, ytest = train_test_split(Xtrain, ytrain,stratify=ytrain, test_size=0.25)"
   ]
  },
  {
   "cell_type": "code",
   "execution_count": null,
   "id": "f47e9816-4f24-47a6-8274-694f64e79983",
   "metadata": {
    "tags": []
   },
   "outputs": [],
   "source": []
  },
  {
   "cell_type": "markdown",
   "id": "f1777704-45d7-4696-9612-76e03764fc25",
   "metadata": {},
   "source": [
    "Define the Quantum Feature Map\n"
   ]
  },
  {
   "cell_type": "code",
   "execution_count": 5,
   "id": "83ad0030-c5d3-4daa-8aff-70f780686999",
   "metadata": {
    "tags": []
   },
   "outputs": [
    {
     "name": "stdout",
     "output_type": "stream",
     "text": [
      "Figure(454.719x535.111)\n",
      "Trainable parameters: θ, ['θ[0]']\n"
     ]
    },
    {
     "data": {
      "image/png": "[encoded data removed]",
      "text/plain": [
       "<Figure size 454.719x535.111 with 1 Axes>"
      ]
     },
     "execution_count": 5,
     "metadata": {},
     "output_type": "execute_result"
    }
   ],
   "source": [
    "from qiskit.circuit.library import PauliFeatureMap\n",
    "from qiskit.visualization import circuit_drawer\n",
    "\n",
    "# Define the parameter vector\n",
    "training_params = ParameterVector(\"θ\", 1)\n",
    "\n",
    "# Define the quantum circuit with PauliFeatureMap\n",
    "fm0 = QuantumCircuit(6)\n",
    "for i in range(6):\n",
    "    fm0.rx(training_params[0], i)\n",
    "\n",
    "# Define the PauliFeatureMap\n",
    "fm1 = PauliFeatureMap(feature_dimension=6, reps=2)\n",
    "\n",
    "# Create the feature map, composed of the two circuits\n",
    "fm = fm0.compose(fm1)\n",
    "\n",
    "# Print the circuit and trainable parameters\n",
    "print(circuit_drawer(fm, output='mpl'))\n",
    "print(f\"Trainable parameters: {training_params}\")\n",
    "fm.draw(output=\"mpl\")\n"
   ]
  },
  {
   "cell_type": "code",
   "execution_count": 6,
   "id": "5c468505-6ecd-49e4-81ab-7938a24d0e8f",
   "metadata": {
    "tags": []
   },
   "outputs": [
    {
     "name": "stdout",
     "output_type": "stream",
     "text": [
      "2\n"
     ]
    }
   ],
   "source": [
    "print(fm.depth())"
   ]
  },
  {
   "cell_type": "code",
   "execution_count": 7,
   "id": "90bf807c-b4bf-4ee5-8ddd-542c1aac9d07",
   "metadata": {
    "tags": []
   },
   "outputs": [],
   "source": [
    "# Instantiate quantum kernel\n",
    "quant_kernel = TrainableFidelityQuantumKernel(feature_map=fm, training_parameters=training_params)\n",
    "\n",
    "# Set up the optimizer\n",
    "cb_qkt = QKTCallback()\n",
    "spsa_opt = SPSA(maxiter=10, callback=cb_qkt.callback, learning_rate=0.05, perturbation=0.05)\n",
    "\n",
    "# Instantiate a quantum kernel trainer.\n",
    "qkt = QuantumKernelTrainer(\n",
    "    quantum_kernel=quant_kernel, loss=\"svc_loss\", optimizer=spsa_opt, initial_point=[np.pi / 2]\n",
    ")"
   ]
  },
  {
   "cell_type": "code",
   "execution_count": null,
   "id": "d17906b0-8c7c-4803-93d9-4f910edf2efe",
   "metadata": {
    "tags": []
   },
   "outputs": [],
   "source": [
    "# Train the kernel using QKT directly\n",
    "qka_results = qkt.fit(Xtrain, ytrain)\n",
    "optimized_kernel = qka_results.quantum_kernel\n",
    "print(qka_results)"
   ]
  },
  {
   "cell_type": "code",
   "execution_count": null,
   "id": "298f9f81-6a12-401e-9a28-7e3c1a92333b",
   "metadata": {},
   "outputs": [],
   "source": []
  },
  {
   "cell_type": "markdown",
   "id": "7e47d67d-8167-4091-93c5-e140ab5010e0",
   "metadata": {},
   "source": [
    "Fit and Test the Model"
   ]
  },
  {
   "cell_type": "code",
   "execution_count": null,
   "id": "ff122dc8-649d-4500-a39b-771de1ef1bdb",
   "metadata": {
    "tags": []
   },
   "outputs": [],
   "source": [
    "# Use QSVC for classification\n",
    "qsvc = QSVC(quantum_kernel=optimized_kernel)\n",
    "\n",
    "# Fit the QSVC\n",
    "qsvc.fit(Xtrain, ytrain)\n",
    "\n",
    "# Predict the labels\n",
    "labels_test = qsvc.predict(Xtest)\n",
    "\n",
    "# Evalaute the test accuracy\n",
    "accuracy_test = metrics.balanced_accuracy_score(y_true=ytest, y_pred=labels_test)\n",
    "print(f\"accuracy test: {accuracy_test}\")"
   ]
  },
  {
   "cell_type": "code",
   "execution_count": null,
   "id": "78fc5271-9627-4dc1-ae44-1cd0bbf4e5b0",
   "metadata": {},
   "outputs": [],
   "source": [
    "from sklearn.metrics import classification_report, confusion_matrix\n",
    "print(confusion_matrix(ytest,labels_test))\n",
    "print(classification_report(ytest,labels_test))"
   ]
  },
  {
   "cell_type": "markdown",
   "id": "1b1dd7ad-020a-4a06-8026-32a9a6d6e587",
   "metadata": {},
   "source": [
    "Visualize the Kernel Training Process"
   ]
  },
  {
   "cell_type": "code",
   "execution_count": null,
   "id": "ba39bd27-a0d9-42fc-871a-9260234d2aef",
   "metadata": {},
   "outputs": [],
   "source": [
    "plot_data = cb_qkt.get_callback_data()  # callback data\n",
    "K = optimized_kernel.evaluate(Xtrain)  # kernel matrix evaluated on the training samples\n",
    "\n",
    "plt.rcParams[\"font.size\"] = 20\n",
    "fig, ax = plt.subplots(1, 2, figsize=(14, 5))\n",
    "ax[0].plot([i + 1 for i in range(len(plot_data[0]))], np.array(plot_data[2]), c=\"k\", marker=\"o\")\n",
    "ax[0].set_xlabel(\"Iterations\")\n",
    "ax[0].set_ylabel(\"Loss\")\n",
    "ax[1].imshow(K, cmap=cm.get_cmap(\"bwr\", 20))\n",
    "fig.tight_layout()\n",
    "plt.show()"
   ]
  },
  {
   "cell_type": "code",
   "execution_count": null,
   "id": "350302ae-7b98-44ad-be50-7f82bfbb8e88",
   "metadata": {},
   "outputs": [],
   "source": []
  }
 ],
 "metadata": {
  "kernelspec": {
   "display_name": "Python 3 (ipykernel)",
   "language": "python",
   "name": "python3"
  },
  "language_info": {
   "codemirror_mode": {
    "name": "ipython",
    "version": 3
   },
   "file_extension": ".py",
   "mimetype": "text/x-python",
   "name": "python",
   "nbconvert_exporter": "python",
   "pygments_lexer": "ipython3",
   "version": "3.10.9"
  },
  "widgets": {
   "application/vnd.jupyter.widget-state+json": {
    "state": {
     "0afffa2d36a048b489b79b4514dd3c5b": {
      "model_module": "@jupyter-widgets/controls",
      "model_module_version": "2.0.0",
      "model_name": "HTMLStyleModel",
      "state": {
       "description_width": "",
       "font_size": null,
       "text_color": null
      }
     },
     "11b6f4f700d741dbbfc2ebdde968c38e": {
      "model_module": "@jupyter-widgets/controls",
      "model_module_version": "2.0.0",
      "model_name": "HTMLModel",
      "state": {
       "layout": "IPY_MODEL_c710b81af94846839c1164d25dd897c6",
       "style": "IPY_MODEL_0afffa2d36a048b489b79b4514dd3c5b",
       "value": "<h5>Queue</h5>"
      }
     },
     "15cf19796cc145c5907077cbe0e433a8": {
      "model_module": "@jupyter-widgets/base",
      "model_module_version": "2.0.0",
      "model_name": "LayoutModel",
      "state": {
       "width": "95px"
      }
     },
     "1af94d0dcf1249f38b1e09ec110dd68c": {
      "model_module": "@jupyter-widgets/controls",
      "model_module_version": "2.0.0",
      "model_name": "ButtonStyleModel",
      "state": {
       "font_family": null,
       "font_size": null,
       "font_style": null,
       "font_variant": null,
       "font_weight": null,
       "text_color": null,
       "text_decoration": null
      }
     },
     "1bf513a6a6c74bebb242bf16300f57a4": {
      "model_module": "@jupyter-widgets/controls",
      "model_module_version": "2.0.0",
      "model_name": "HTMLStyleModel",
      "state": {
       "description_width": "",
       "font_size": null,
       "text_color": null
      }
     },
     "2973844de336460e8c5fc523fbb98ba7": {
      "model_module": "@jupyter-widgets/base",
      "model_module_version": "2.0.0",
      "model_name": "LayoutModel",
      "state": {
       "width": "145px"
      }
     },
     "30825cc02fad429fbe4205a432afec78": {
      "model_module": "@jupyter-widgets/controls",
      "model_module_version": "2.0.0",
      "model_name": "HTMLModel",
      "state": {
       "layout": "IPY_MODEL_de7f5f1347b24942922a5b31380af748",
       "style": "IPY_MODEL_49903fdf44be422384f3d233e7f6be32",
       "value": "<p style='font-family: IBM Plex Sans, Arial, Helvetica, sans-serif; font-size: 20px; font-weight: medium;'>Circuit Properties</p>"
      }
     },
     "39e36a2145654f3d804b6f915e07f563": {
      "model_module": "@jupyter-widgets/base",
      "model_module_version": "2.0.0",
      "model_name": "LayoutModel",
      "state": {}
     },
     "3cbc6cb264dd4942b7e1ba2eb377801c": {
      "model_module": "@jupyter-widgets/controls",
      "model_module_version": "2.0.0",
      "model_name": "HTMLModel",
      "state": {
       "layout": "IPY_MODEL_15cf19796cc145c5907077cbe0e433a8",
       "style": "IPY_MODEL_bb236e869ccb47b6b8545a942efd8192",
       "value": "<h5>Status</h5>"
      }
     },
     "464afa86002442e8bbe138f08275697a": {
      "model_module": "@jupyter-widgets/base",
      "model_module_version": "2.0.0",
      "model_name": "LayoutModel",
      "state": {
       "margin": "0px 0px 0px 37px",
       "width": "600px"
      }
     },
     "49903fdf44be422384f3d233e7f6be32": {
      "model_module": "@jupyter-widgets/controls",
      "model_module_version": "2.0.0",
      "model_name": "HTMLStyleModel",
      "state": {
       "description_width": "",
       "font_size": null,
       "text_color": null
      }
     },
     "59a06658e53042f88827cc7525d06e31": {
      "model_module": "@jupyter-widgets/controls",
      "model_module_version": "2.0.0",
      "model_name": "HTMLModel",
      "state": {
       "layout": "IPY_MODEL_39e36a2145654f3d804b6f915e07f563",
       "style": "IPY_MODEL_1bf513a6a6c74bebb242bf16300f57a4",
       "value": "<h5>Message</h5>"
      }
     },
     "5d3165011381435391ed28614c925b7a": {
      "model_module": "@jupyter-widgets/controls",
      "model_module_version": "2.0.0",
      "model_name": "ButtonModel",
      "state": {
       "button_style": "primary",
       "description": "Clear",
       "layout": "IPY_MODEL_bbaf9a328c6b47ae93a68e02640b1325",
       "style": "IPY_MODEL_1af94d0dcf1249f38b1e09ec110dd68c",
       "tooltip": null
      }
     },
     "8d72a849160c41d2b76e26d6820e6960": {
      "model_module": "@jupyter-widgets/base",
      "model_module_version": "2.0.0",
      "model_name": "LayoutModel",
      "state": {
       "width": "190px"
      }
     },
     "9eddc7771a4f4ba999d4f1a3f90fb081": {
      "model_module": "@jupyter-widgets/controls",
      "model_module_version": "2.0.0",
      "model_name": "HTMLStyleModel",
      "state": {
       "description_width": "",
       "font_size": null,
       "text_color": null
      }
     },
     "a31a5dfe69ea4a87911d2c27f083ba79": {
      "model_module": "@jupyter-widgets/controls",
      "model_module_version": "2.0.0",
      "model_name": "HTMLModel",
      "state": {
       "layout": "IPY_MODEL_8d72a849160c41d2b76e26d6820e6960",
       "style": "IPY_MODEL_9eddc7771a4f4ba999d4f1a3f90fb081",
       "value": "<h5>Job ID</h5>"
      }
     },
     "acdb9a2551e6420594be4c5d7eb01565": {
      "model_module": "@jupyter-widgets/controls",
      "model_module_version": "2.0.0",
      "model_name": "HTMLModel",
      "state": {
       "layout": "IPY_MODEL_2973844de336460e8c5fc523fbb98ba7",
       "style": "IPY_MODEL_f9ab92a956184a53896d0629bc2bb777",
       "value": "<h5>Backend</h5>"
      }
     },
     "bb236e869ccb47b6b8545a942efd8192": {
      "model_module": "@jupyter-widgets/controls",
      "model_module_version": "2.0.0",
      "model_name": "HTMLStyleModel",
      "state": {
       "description_width": "",
       "font_size": null,
       "text_color": null
      }
     },
     "bbaf9a328c6b47ae93a68e02640b1325": {
      "model_module": "@jupyter-widgets/base",
      "model_module_version": "2.0.0",
      "model_name": "LayoutModel",
      "state": {
       "grid_area": "right",
       "padding": "0px 0px 0px 0px",
       "width": "70px"
      }
     },
     "bfcac4ef6f044eeba3fa0e1d2645f6f9": {
      "model_module": "@jupyter-widgets/base",
      "model_module_version": "2.0.0",
      "model_name": "LayoutModel",
      "state": {
       "grid_template_areas": "\n                                       \". . . . right \"\n                                        ",
       "grid_template_columns": "20% 20% 20% 20% 20%",
       "width": "100%"
      }
     },
     "c710b81af94846839c1164d25dd897c6": {
      "model_module": "@jupyter-widgets/base",
      "model_module_version": "2.0.0",
      "model_name": "LayoutModel",
      "state": {
       "width": "70px"
      }
     },
     "d8df06b493b04628b7dcc540f5a2725e": {
      "model_module": "@jupyter-widgets/controls",
      "model_module_version": "2.0.0",
      "model_name": "HBoxModel",
      "state": {
       "children": [
        "IPY_MODEL_a31a5dfe69ea4a87911d2c27f083ba79",
        "IPY_MODEL_acdb9a2551e6420594be4c5d7eb01565",
        "IPY_MODEL_3cbc6cb264dd4942b7e1ba2eb377801c",
        "IPY_MODEL_11b6f4f700d741dbbfc2ebdde968c38e",
        "IPY_MODEL_59a06658e53042f88827cc7525d06e31"
       ],
       "layout": "IPY_MODEL_464afa86002442e8bbe138f08275697a"
      }
     },
     "de7f5f1347b24942922a5b31380af748": {
      "model_module": "@jupyter-widgets/base",
      "model_module_version": "2.0.0",
      "model_name": "LayoutModel",
      "state": {
       "margin": "0px 0px 10px 0px"
      }
     },
     "e8f2b3f9131745cea0a1c6c305d600a9": {
      "model_module": "@jupyter-widgets/controls",
      "model_module_version": "2.0.0",
      "model_name": "GridBoxModel",
      "state": {
       "children": [
        "IPY_MODEL_5d3165011381435391ed28614c925b7a"
       ],
       "layout": "IPY_MODEL_bfcac4ef6f044eeba3fa0e1d2645f6f9"
      }
     },
     "f9ab92a956184a53896d0629bc2bb777": {
      "model_module": "@jupyter-widgets/controls",
      "model_module_version": "2.0.0",
      "model_name": "HTMLStyleModel",
      "state": {
       "description_width": "",
       "font_size": null,
       "text_color": null
      }
     }
    },
    "version_major": 2,
    "version_minor": 0
   }
  }
 },
 "nbformat": 4,
 "nbformat_minor": 5
}
