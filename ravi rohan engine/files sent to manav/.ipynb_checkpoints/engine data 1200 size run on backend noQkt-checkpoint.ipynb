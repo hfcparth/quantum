{
 "cells": [
  {
   "cell_type": "markdown",
   "id": "a2fb2cd8-f2a6-4202-a212-a0d548998d80",
   "metadata": {},
   "source": [
    "Library Import"
   ]
  },
  {
   "cell_type": "code",
   "execution_count": 1,
   "id": "118a4844-8d3e-4fb9-8aa1-db5c51e2090f",
   "metadata": {
    "tags": []
   },
   "outputs": [],
   "source": [
    "# Importing standard Qiskit libraries\n",
    "from qiskit import QuantumCircuit, transpile,BasicAer\n",
    "from qiskit.tools.jupyter import *\n",
    "from qiskit.visualization import *\n",
    "# from ibm_quantum_widgets import *\n",
    "from qiskit_aer import AerSimulator\n",
    "from qiskit.algorithms.optimizers import SPSA\n",
    "import pandas as pd\n",
    "from qiskit.circuit import ParameterVector\n",
    "from qiskit.visualization import circuit_drawer\n",
    "\n",
    "\n",
    "# qiskit-ibmq-provider has been deprecated.\n",
    "# Please see the Migration Guides in https://ibm.biz/provider_migration_guide for more detail.\n",
    "from qiskit_ibm_runtime import QiskitRuntimeService, Sampler, Estimator, Session, Options\n",
    "\n",
    "# Loading your IBM Quantum account(s)\n",
    "# service = QiskitRuntimeService(channel=\"ibm_quantum\")\n",
    "from pylab import cm\n",
    "from sklearn import metrics\n",
    "from sklearn.model_selection import train_test_split\n",
    "import matplotlib.pyplot as plt\n",
    "import numpy as np\n",
    "from qiskit.circuit.library import ZZFeatureMap\n",
    "from qiskit_machine_learning.kernels import TrainableFidelityQuantumKernel\n",
    "from qiskit_machine_learning.kernels.algorithms import QuantumKernelTrainer\n",
    "from qiskit_machine_learning.algorithms import QSVC\n",
    "from qiskit_machine_learning.kernels import QuantumKernel\n",
    "# Invoke a primitive inside a session. For more details see https://qiskit.org/documentation/partners/qiskit_ibm_runtime/tutorials.html\n",
    "# with Session(backend=service.backend(\"ibmq_qasm_simulator\")):\n",
    "#     result = Sampler().run(circuits).result()"
   ]
  },
  {
   "cell_type": "code",
   "execution_count": 2,
   "id": "90d2010b-da00-4831-97ff-f851c6b8c654",
   "metadata": {
    "tags": []
   },
   "outputs": [],
   "source": [
    "# Importing standard Qiskit libraries\n",
    "from qiskit import QuantumCircuit, transpile, BasicAer, IBMQ, execute, Aer, assemble\n",
    "from qiskit.tools.jupyter import *\n",
    "from qiskit.visualization import *\n",
    "from qiskit import Aer\n",
    "from qiskit.algorithms.optimizers import SPSA\n",
    "from qiskit.circuit import ParameterVector\n",
    "from qiskit.visualization import circuit_drawer\n",
    "\n",
    "# General libraries\n",
    "import numpy as np\n",
    "import pandas as pd\n",
    "import matplotlib.pyplot as plt\n",
    "from pylab import cm\n",
    "from sklearn import metrics\n",
    "\n",
    "# QKT related\n",
    "from qiskit.circuit.library import ZZFeatureMap\n",
    "from qiskit_machine_learning.algorithms import QSVC\n",
    "from qiskit_machine_learning.kernels import FidelityQuantumKernel, TrainableFidelityQuantumKernel\n",
    "# from qiskit_machine_learning.kernels.algorithms import QuantumKernelTrainer\n",
    "from qiskit.algorithms.state_fidelities import ComputeUncompute\n",
    "# from qiskit.primitives import Sampler\n",
    "\n",
    "# Additional imports\n",
    "from sklearn.decomposition import PCA\n",
    "from sklearn.metrics import confusion_matrix, classification_report\n",
    "from sklearn.model_selection import train_test_split\n",
    "\n",
    "from collections import Counter"
   ]
  },
  {
   "cell_type": "code",
   "execution_count": 3,
   "id": "874ffdc8-8f3e-4943-ba2f-77174ca80104",
   "metadata": {
    "tags": []
   },
   "outputs": [],
   "source": [
    "class QKTCallback:\n",
    "    \"\"\"Callback wrapper class.\"\"\"\n",
    "\n",
    "    def __init__(self) -> None:\n",
    "        self._data = [[] for i in range(5)]\n",
    "\n",
    "    def callback(self, x0, x1=None, x2=None, x3=None, x4=None):\n",
    "        \"\"\"\n",
    "        Args:\n",
    "            x0: number of function evaluations\n",
    "            x1: the parameters\n",
    "            x2: the function value\n",
    "            x3: the stepsize\n",
    "            x4: whether the step was accepted\n",
    "        \"\"\"\n",
    "        self._data[0].append(x0)\n",
    "        self._data[1].append(x1)\n",
    "        self._data[2].append(x2)\n",
    "        self._data[3].append(x3)\n",
    "        self._data[4].append(x4)\n",
    "\n",
    "    def get_callback_data(self):\n",
    "        return self._data\n",
    "\n",
    "    def clear_callback_data(self):\n",
    "        self._data = [[] for i in range(5)]"
   ]
  },
  {
   "cell_type": "markdown",
   "id": "1070377f-5f5c-4afb-a76e-68785178fc70",
   "metadata": {},
   "source": [
    "Preparing the Dataset"
   ]
  },
  {
   "cell_type": "code",
   "execution_count": 4,
   "id": "1fd88628-4c40-4ad7-8a2c-4ded12ad5bd9",
   "metadata": {
    "tags": []
   },
   "outputs": [
    {
     "data": {
      "text/html": [
       "<div>\n",
       "<style scoped>\n",
       "    .dataframe tbody tr th:only-of-type {\n",
       "        vertical-align: middle;\n",
       "    }\n",
       "\n",
       "    .dataframe tbody tr th {\n",
       "        vertical-align: top;\n",
       "    }\n",
       "\n",
       "    .dataframe thead th {\n",
       "        text-align: right;\n",
       "    }\n",
       "</style>\n",
       "<table border=\"1\" class=\"dataframe\">\n",
       "  <thead>\n",
       "    <tr style=\"text-align: right;\">\n",
       "      <th></th>\n",
       "      <th>Coolant temp</th>\n",
       "      <th>Fuel pressure</th>\n",
       "      <th>LOG(Engine rpm)</th>\n",
       "      <th>LOG(Lub oil pressure)</th>\n",
       "      <th>LOG(Coolant pressure)</th>\n",
       "      <th>lub oil temp</th>\n",
       "    </tr>\n",
       "  </thead>\n",
       "  <tbody>\n",
       "    <tr>\n",
       "      <th>0</th>\n",
       "      <td>-0.108643</td>\n",
       "      <td>-0.458618</td>\n",
       "      <td>-1.122023</td>\n",
       "      <td>-0.945244</td>\n",
       "      <td>2.504221</td>\n",
       "      <td>-1.053616</td>\n",
       "    </tr>\n",
       "    <tr>\n",
       "      <th>1</th>\n",
       "      <td>-0.270546</td>\n",
       "      <td>-0.467818</td>\n",
       "      <td>0.572158</td>\n",
       "      <td>0.821692</td>\n",
       "      <td>-0.386126</td>\n",
       "      <td>-0.342973</td>\n",
       "    </tr>\n",
       "    <tr>\n",
       "      <th>2</th>\n",
       "      <td>0.434519</td>\n",
       "      <td>0.943128</td>\n",
       "      <td>-0.368585</td>\n",
       "      <td>-0.357813</td>\n",
       "      <td>-0.804757</td>\n",
       "      <td>-0.731751</td>\n",
       "    </tr>\n",
       "    <tr>\n",
       "      <th>3</th>\n",
       "      <td>0.358127</td>\n",
       "      <td>-0.676976</td>\n",
       "      <td>0.087629</td>\n",
       "      <td>-9.286989</td>\n",
       "      <td>0.962594</td>\n",
       "      <td>1.208524</td>\n",
       "    </tr>\n",
       "    <tr>\n",
       "      <th>4</th>\n",
       "      <td>0.710329</td>\n",
       "      <td>-1.689018</td>\n",
       "      <td>-0.300498</td>\n",
       "      <td>0.580295</td>\n",
       "      <td>0.220930</td>\n",
       "      <td>0.659805</td>\n",
       "    </tr>\n",
       "    <tr>\n",
       "      <th>...</th>\n",
       "      <td>...</td>\n",
       "      <td>...</td>\n",
       "      <td>...</td>\n",
       "      <td>...</td>\n",
       "      <td>...</td>\n",
       "      <td>...</td>\n",
       "    </tr>\n",
       "    <tr>\n",
       "      <th>1195</th>\n",
       "      <td>0.002870</td>\n",
       "      <td>0.031966</td>\n",
       "      <td>0.555103</td>\n",
       "      <td>0.660490</td>\n",
       "      <td>1.108182</td>\n",
       "      <td>-0.584349</td>\n",
       "    </tr>\n",
       "    <tr>\n",
       "      <th>1196</th>\n",
       "      <td>0.898031</td>\n",
       "      <td>-1.843809</td>\n",
       "      <td>0.283783</td>\n",
       "      <td>0.509437</td>\n",
       "      <td>0.565864</td>\n",
       "      <td>0.733411</td>\n",
       "    </tr>\n",
       "    <tr>\n",
       "      <th>1197</th>\n",
       "      <td>0.308100</td>\n",
       "      <td>-0.268417</td>\n",
       "      <td>1.335523</td>\n",
       "      <td>0.440793</td>\n",
       "      <td>0.019946</td>\n",
       "      <td>-0.341390</td>\n",
       "    </tr>\n",
       "    <tr>\n",
       "      <th>1198</th>\n",
       "      <td>-0.430117</td>\n",
       "      <td>2.765807</td>\n",
       "      <td>-0.621706</td>\n",
       "      <td>0.292100</td>\n",
       "      <td>-0.100907</td>\n",
       "      <td>-0.596006</td>\n",
       "    </tr>\n",
       "    <tr>\n",
       "      <th>1199</th>\n",
       "      <td>-0.639572</td>\n",
       "      <td>0.431094</td>\n",
       "      <td>-0.264779</td>\n",
       "      <td>-0.098546</td>\n",
       "      <td>-1.078083</td>\n",
       "      <td>-0.204911</td>\n",
       "    </tr>\n",
       "  </tbody>\n",
       "</table>\n",
       "<p>1200 rows × 6 columns</p>\n",
       "</div>"
      ],
      "text/plain": [
       "      Coolant temp  Fuel pressure  LOG(Engine rpm)  LOG(Lub oil pressure)  \\\n",
       "0        -0.108643      -0.458618        -1.122023              -0.945244   \n",
       "1        -0.270546      -0.467818         0.572158               0.821692   \n",
       "2         0.434519       0.943128        -0.368585              -0.357813   \n",
       "3         0.358127      -0.676976         0.087629              -9.286989   \n",
       "4         0.710329      -1.689018        -0.300498               0.580295   \n",
       "...            ...            ...              ...                    ...   \n",
       "1195      0.002870       0.031966         0.555103               0.660490   \n",
       "1196      0.898031      -1.843809         0.283783               0.509437   \n",
       "1197      0.308100      -0.268417         1.335523               0.440793   \n",
       "1198     -0.430117       2.765807        -0.621706               0.292100   \n",
       "1199     -0.639572       0.431094        -0.264779              -0.098546   \n",
       "\n",
       "      LOG(Coolant pressure)  lub oil temp  \n",
       "0                  2.504221     -1.053616  \n",
       "1                 -0.386126     -0.342973  \n",
       "2                 -0.804757     -0.731751  \n",
       "3                  0.962594      1.208524  \n",
       "4                  0.220930      0.659805  \n",
       "...                     ...           ...  \n",
       "1195               1.108182     -0.584349  \n",
       "1196               0.565864      0.733411  \n",
       "1197               0.019946     -0.341390  \n",
       "1198              -0.100907     -0.596006  \n",
       "1199              -1.078083     -0.204911  \n",
       "\n",
       "[1200 rows x 6 columns]"
      ]
     },
     "execution_count": 4,
     "metadata": {},
     "output_type": "execute_result"
    }
   ],
   "source": [
    "df = pd.read_csv(r'STANDARDIZED SAMPLE.csv')\n",
    "ytrain= df.iloc[:,7]\n",
    "Xtrain= df.iloc[:,1:7]\n",
    "Xtrain"
   ]
  },
  {
   "cell_type": "code",
   "execution_count": null,
   "id": "10e356e0-2137-4cab-87e3-c67da723b426",
   "metadata": {},
   "outputs": [],
   "source": []
  },
  {
   "cell_type": "code",
   "execution_count": 5,
   "id": "1f0f5e53-9205-4225-aa88-c5d3a8afe3e9",
   "metadata": {
    "tags": []
   },
   "outputs": [],
   "source": [
    "#To reduce training dataset size\n",
    "Xtrain,Xtest , ytrain, ytest = train_test_split(Xtrain, ytrain,stratify=ytrain, test_size=0.98)"
   ]
  },
  {
   "cell_type": "code",
   "execution_count": 6,
   "id": "f47e9816-4f24-47a6-8274-694f64e79983",
   "metadata": {
    "tags": []
   },
   "outputs": [
    {
     "data": {
      "text/html": [
       "<div>\n",
       "<style scoped>\n",
       "    .dataframe tbody tr th:only-of-type {\n",
       "        vertical-align: middle;\n",
       "    }\n",
       "\n",
       "    .dataframe tbody tr th {\n",
       "        vertical-align: top;\n",
       "    }\n",
       "\n",
       "    .dataframe thead th {\n",
       "        text-align: right;\n",
       "    }\n",
       "</style>\n",
       "<table border=\"1\" class=\"dataframe\">\n",
       "  <thead>\n",
       "    <tr style=\"text-align: right;\">\n",
       "      <th></th>\n",
       "      <th>Coolant temp</th>\n",
       "      <th>Fuel pressure</th>\n",
       "      <th>LOG(Engine rpm)</th>\n",
       "      <th>LOG(Lub oil pressure)</th>\n",
       "      <th>LOG(Coolant pressure)</th>\n",
       "      <th>lub oil temp</th>\n",
       "    </tr>\n",
       "  </thead>\n",
       "  <tbody>\n",
       "    <tr>\n",
       "      <th>353</th>\n",
       "      <td>-2.035985</td>\n",
       "      <td>0.132127</td>\n",
       "      <td>-1.606552</td>\n",
       "      <td>0.304405</td>\n",
       "      <td>2.353069</td>\n",
       "      <td>0.388405</td>\n",
       "    </tr>\n",
       "    <tr>\n",
       "      <th>812</th>\n",
       "      <td>1.458003</td>\n",
       "      <td>-0.013155</td>\n",
       "      <td>-1.951359</td>\n",
       "      <td>0.445411</td>\n",
       "      <td>-3.933072</td>\n",
       "      <td>1.112576</td>\n",
       "    </tr>\n",
       "    <tr>\n",
       "      <th>601</th>\n",
       "      <td>0.509371</td>\n",
       "      <td>0.204346</td>\n",
       "      <td>0.059725</td>\n",
       "      <td>0.627529</td>\n",
       "      <td>-0.695400</td>\n",
       "      <td>-0.000935</td>\n",
       "    </tr>\n",
       "    <tr>\n",
       "      <th>382</th>\n",
       "      <td>1.582827</td>\n",
       "      <td>-1.388034</td>\n",
       "      <td>0.636136</td>\n",
       "      <td>-0.204705</td>\n",
       "      <td>-0.485034</td>\n",
       "      <td>1.287567</td>\n",
       "    </tr>\n",
       "    <tr>\n",
       "      <th>204</th>\n",
       "      <td>-0.013054</td>\n",
       "      <td>-0.320558</td>\n",
       "      <td>0.991876</td>\n",
       "      <td>-0.221258</td>\n",
       "      <td>0.691625</td>\n",
       "      <td>0.067163</td>\n",
       "    </tr>\n",
       "    <tr>\n",
       "      <th>889</th>\n",
       "      <td>0.206898</td>\n",
       "      <td>0.558071</td>\n",
       "      <td>-1.774230</td>\n",
       "      <td>-0.278885</td>\n",
       "      <td>0.778591</td>\n",
       "      <td>-0.086955</td>\n",
       "    </tr>\n",
       "    <tr>\n",
       "      <th>849</th>\n",
       "      <td>0.706636</td>\n",
       "      <td>0.096785</td>\n",
       "      <td>-0.323030</td>\n",
       "      <td>0.030794</td>\n",
       "      <td>0.091005</td>\n",
       "      <td>1.505668</td>\n",
       "    </tr>\n",
       "    <tr>\n",
       "      <th>301</th>\n",
       "      <td>0.978537</td>\n",
       "      <td>-1.073353</td>\n",
       "      <td>0.708624</td>\n",
       "      <td>0.267990</td>\n",
       "      <td>1.470979</td>\n",
       "      <td>1.633959</td>\n",
       "    </tr>\n",
       "    <tr>\n",
       "      <th>840</th>\n",
       "      <td>0.952537</td>\n",
       "      <td>0.439506</td>\n",
       "      <td>0.565347</td>\n",
       "      <td>-0.572556</td>\n",
       "      <td>0.741869</td>\n",
       "      <td>0.391124</td>\n",
       "    </tr>\n",
       "    <tr>\n",
       "      <th>1035</th>\n",
       "      <td>1.025035</td>\n",
       "      <td>-0.102116</td>\n",
       "      <td>-1.240874</td>\n",
       "      <td>0.517125</td>\n",
       "      <td>-0.515261</td>\n",
       "      <td>0.532995</td>\n",
       "    </tr>\n",
       "    <tr>\n",
       "      <th>615</th>\n",
       "      <td>-0.297103</td>\n",
       "      <td>0.388299</td>\n",
       "      <td>-1.974219</td>\n",
       "      <td>-0.392999</td>\n",
       "      <td>-0.691491</td>\n",
       "      <td>0.379057</td>\n",
       "    </tr>\n",
       "    <tr>\n",
       "      <th>73</th>\n",
       "      <td>0.548101</td>\n",
       "      <td>-0.574803</td>\n",
       "      <td>0.964972</td>\n",
       "      <td>-0.321115</td>\n",
       "      <td>0.747597</td>\n",
       "      <td>2.391129</td>\n",
       "    </tr>\n",
       "    <tr>\n",
       "      <th>1031</th>\n",
       "      <td>0.098223</td>\n",
       "      <td>-0.311609</td>\n",
       "      <td>0.035608</td>\n",
       "      <td>-0.561500</td>\n",
       "      <td>-0.916191</td>\n",
       "      <td>-0.275199</td>\n",
       "    </tr>\n",
       "    <tr>\n",
       "      <th>1125</th>\n",
       "      <td>1.806918</td>\n",
       "      <td>-0.266729</td>\n",
       "      <td>0.873593</td>\n",
       "      <td>0.514027</td>\n",
       "      <td>-0.841350</td>\n",
       "      <td>-1.216775</td>\n",
       "    </tr>\n",
       "    <tr>\n",
       "      <th>982</th>\n",
       "      <td>1.428176</td>\n",
       "      <td>-0.706418</td>\n",
       "      <td>-0.151419</td>\n",
       "      <td>-0.368625</td>\n",
       "      <td>0.693587</td>\n",
       "      <td>0.651381</td>\n",
       "    </tr>\n",
       "    <tr>\n",
       "      <th>869</th>\n",
       "      <td>-0.396794</td>\n",
       "      <td>-0.755102</td>\n",
       "      <td>-2.122992</td>\n",
       "      <td>-2.498994</td>\n",
       "      <td>0.880945</td>\n",
       "      <td>0.959041</td>\n",
       "    </tr>\n",
       "    <tr>\n",
       "      <th>13</th>\n",
       "      <td>-0.301014</td>\n",
       "      <td>-0.458242</td>\n",
       "      <td>-1.192793</td>\n",
       "      <td>-1.360672</td>\n",
       "      <td>0.040166</td>\n",
       "      <td>0.805671</td>\n",
       "    </tr>\n",
       "    <tr>\n",
       "      <th>100</th>\n",
       "      <td>0.121866</td>\n",
       "      <td>0.369296</td>\n",
       "      <td>-1.246936</td>\n",
       "      <td>0.210429</td>\n",
       "      <td>0.632665</td>\n",
       "      <td>-0.705597</td>\n",
       "    </tr>\n",
       "    <tr>\n",
       "      <th>1165</th>\n",
       "      <td>-0.727125</td>\n",
       "      <td>0.841126</td>\n",
       "      <td>2.268323</td>\n",
       "      <td>0.487240</td>\n",
       "      <td>0.362418</td>\n",
       "      <td>-2.731977</td>\n",
       "    </tr>\n",
       "    <tr>\n",
       "      <th>1046</th>\n",
       "      <td>1.598321</td>\n",
       "      <td>-0.086019</td>\n",
       "      <td>-0.543122</td>\n",
       "      <td>-0.158663</td>\n",
       "      <td>2.098225</td>\n",
       "      <td>-0.529439</td>\n",
       "    </tr>\n",
       "    <tr>\n",
       "      <th>651</th>\n",
       "      <td>2.239755</td>\n",
       "      <td>0.122524</td>\n",
       "      <td>0.695568</td>\n",
       "      <td>-2.100839</td>\n",
       "      <td>0.088664</td>\n",
       "      <td>-0.351416</td>\n",
       "    </tr>\n",
       "    <tr>\n",
       "      <th>473</th>\n",
       "      <td>-0.577867</td>\n",
       "      <td>1.539068</td>\n",
       "      <td>0.346539</td>\n",
       "      <td>1.111636</td>\n",
       "      <td>0.571946</td>\n",
       "      <td>0.318235</td>\n",
       "    </tr>\n",
       "    <tr>\n",
       "      <th>881</th>\n",
       "      <td>-0.036301</td>\n",
       "      <td>0.029213</td>\n",
       "      <td>-0.225075</td>\n",
       "      <td>-0.713274</td>\n",
       "      <td>1.037568</td>\n",
       "      <td>0.690394</td>\n",
       "    </tr>\n",
       "    <tr>\n",
       "      <th>647</th>\n",
       "      <td>2.032060</td>\n",
       "      <td>-0.638376</td>\n",
       "      <td>-0.447576</td>\n",
       "      <td>1.120004</td>\n",
       "      <td>1.735164</td>\n",
       "      <td>0.073737</td>\n",
       "    </tr>\n",
       "  </tbody>\n",
       "</table>\n",
       "</div>"
      ],
      "text/plain": [
       "      Coolant temp  Fuel pressure  LOG(Engine rpm)  LOG(Lub oil pressure)  \\\n",
       "353      -2.035985       0.132127        -1.606552               0.304405   \n",
       "812       1.458003      -0.013155        -1.951359               0.445411   \n",
       "601       0.509371       0.204346         0.059725               0.627529   \n",
       "382       1.582827      -1.388034         0.636136              -0.204705   \n",
       "204      -0.013054      -0.320558         0.991876              -0.221258   \n",
       "889       0.206898       0.558071        -1.774230              -0.278885   \n",
       "849       0.706636       0.096785        -0.323030               0.030794   \n",
       "301       0.978537      -1.073353         0.708624               0.267990   \n",
       "840       0.952537       0.439506         0.565347              -0.572556   \n",
       "1035      1.025035      -0.102116        -1.240874               0.517125   \n",
       "615      -0.297103       0.388299        -1.974219              -0.392999   \n",
       "73        0.548101      -0.574803         0.964972              -0.321115   \n",
       "1031      0.098223      -0.311609         0.035608              -0.561500   \n",
       "1125      1.806918      -0.266729         0.873593               0.514027   \n",
       "982       1.428176      -0.706418        -0.151419              -0.368625   \n",
       "869      -0.396794      -0.755102        -2.122992              -2.498994   \n",
       "13       -0.301014      -0.458242        -1.192793              -1.360672   \n",
       "100       0.121866       0.369296        -1.246936               0.210429   \n",
       "1165     -0.727125       0.841126         2.268323               0.487240   \n",
       "1046      1.598321      -0.086019        -0.543122              -0.158663   \n",
       "651       2.239755       0.122524         0.695568              -2.100839   \n",
       "473      -0.577867       1.539068         0.346539               1.111636   \n",
       "881      -0.036301       0.029213        -0.225075              -0.713274   \n",
       "647       2.032060      -0.638376        -0.447576               1.120004   \n",
       "\n",
       "      LOG(Coolant pressure)  lub oil temp  \n",
       "353                2.353069      0.388405  \n",
       "812               -3.933072      1.112576  \n",
       "601               -0.695400     -0.000935  \n",
       "382               -0.485034      1.287567  \n",
       "204                0.691625      0.067163  \n",
       "889                0.778591     -0.086955  \n",
       "849                0.091005      1.505668  \n",
       "301                1.470979      1.633959  \n",
       "840                0.741869      0.391124  \n",
       "1035              -0.515261      0.532995  \n",
       "615               -0.691491      0.379057  \n",
       "73                 0.747597      2.391129  \n",
       "1031              -0.916191     -0.275199  \n",
       "1125              -0.841350     -1.216775  \n",
       "982                0.693587      0.651381  \n",
       "869                0.880945      0.959041  \n",
       "13                 0.040166      0.805671  \n",
       "100                0.632665     -0.705597  \n",
       "1165               0.362418     -2.731977  \n",
       "1046               2.098225     -0.529439  \n",
       "651                0.088664     -0.351416  \n",
       "473                0.571946      0.318235  \n",
       "881                1.037568      0.690394  \n",
       "647                1.735164      0.073737  "
      ]
     },
     "execution_count": 6,
     "metadata": {},
     "output_type": "execute_result"
    }
   ],
   "source": [
    "Xtrain"
   ]
  },
  {
   "cell_type": "code",
   "execution_count": 7,
   "id": "1355f486-8eec-4010-84a7-56ecb0467934",
   "metadata": {
    "tags": []
   },
   "outputs": [
    {
     "data": {
      "text/plain": [
       "353     1\n",
       "812     1\n",
       "601     1\n",
       "382     0\n",
       "204     0\n",
       "889     1\n",
       "849     1\n",
       "301     0\n",
       "840     0\n",
       "1035    1\n",
       "615     1\n",
       "73      0\n",
       "1031    0\n",
       "1125    1\n",
       "982     1\n",
       "869     0\n",
       "13      0\n",
       "100     1\n",
       "1165    0\n",
       "1046    0\n",
       "651     1\n",
       "473     0\n",
       "881     1\n",
       "647     0\n",
       "Name: Engine Condition, dtype: int64"
      ]
     },
     "execution_count": 7,
     "metadata": {},
     "output_type": "execute_result"
    }
   ],
   "source": [
    "ytrain"
   ]
  },
  {
   "cell_type": "markdown",
   "id": "f1777704-45d7-4696-9612-76e03764fc25",
   "metadata": {},
   "source": [
    "Define the Quantum Feature Map\n"
   ]
  },
  {
   "cell_type": "code",
   "execution_count": 8,
   "id": "83ad0030-c5d3-4daa-8aff-70f780686999",
   "metadata": {
    "tags": []
   },
   "outputs": [
    {
     "name": "stdout",
     "output_type": "stream",
     "text": [
      "Figure(371.107x535.111)\n",
      "Trainable parameters: θ, ['θ[0]']\n"
     ]
    },
    {
     "data": {
      "image/png": "[encoded data removed]",
      "text/plain": [
       "<Figure size 371.107x535.111 with 1 Axes>"
      ]
     },
     "execution_count": 8,
     "metadata": {},
     "output_type": "execute_result"
    }
   ],
   "source": [
    "from qiskit.circuit.library import PauliFeatureMap\n",
    "from qiskit.visualization import circuit_drawer\n",
    "\n",
    "# Define the parameter vector\n",
    "training_params = ParameterVector(\"θ\", 1)\n",
    "\n",
    "# Define the quantum circuit with PauliFeatureMap\n",
    "fm0 = QuantumCircuit(6)\n",
    "for i in range(6):\n",
    "    fm0.rx(training_params[0], i)\n",
    "\n",
    "# Define the PauliFeatureMap\n",
    "\n",
    "\n",
    "# Create the feature map, composed of the two circuits\n",
    "# fm = fm0.compose(fm1)\n",
    "fm=PauliFeatureMap(6, entanglement='linear')\n",
    "# Print the circuit and trainable parameters\n",
    "print(circuit_drawer(fm, output='mpl'))\n",
    "print(f\"Trainable parameters: {training_params}\")\n",
    "fm.draw(output=\"mpl\")\n"
   ]
  },
  {
   "cell_type": "code",
   "execution_count": 9,
   "id": "5c468505-6ecd-49e4-81ab-7938a24d0e8f",
   "metadata": {
    "tags": []
   },
   "outputs": [
    {
     "name": "stdout",
     "output_type": "stream",
     "text": [
      "25\n"
     ]
    }
   ],
   "source": [
    "print(transpile(fm,optimization_level=3).depth())"
   ]
  },
  {
   "cell_type": "code",
   "execution_count": 10,
   "id": "76e55a32-ed57-4918-848b-cd21cf2c9886",
   "metadata": {
    "tags": []
   },
   "outputs": [],
   "source": [
    "# Connecting with IBMQ\n",
    "from qiskit_ibm_runtime import QiskitRuntimeService, Sampler, Estimator, Session, Options\n",
    "# Loading your IBM Quantum account(s)\n",
    "QiskitRuntimeService.save_account(channel=\"ibm_quantum\", token=\"f0fac8f6a1cfa96fd78d6dcb9480ce59126296fa6e16e54511920a1b23e3ffaaa958a49dd9d11b7ab3a53b5c370286073f27cfc98b180fda299efe1e1dbadacf\",overwrite=True)\n",
    "service = QiskitRuntimeService(channel=\"ibm_quantum\")"
   ]
  },
  {
   "cell_type": "code",
   "execution_count": 11,
   "id": "abbf9289-cd3f-4452-9752-c26884f1bd35",
   "metadata": {
    "tags": []
   },
   "outputs": [
    {
     "name": "stdout",
     "output_type": "stream",
     "text": [
      "[<IBMBackend('ibmq_belem')>, <IBMBackend('simulator_mps')>, <IBMBackend('ibm_lagos')>, <IBMBackend('ibmq_jakarta')>, <IBMBackend('ibmq_qasm_simulator')>, <IBMBackend('ibmq_quito')>, <IBMBackend('ibmq_lima')>, <IBMBackend('simulator_extended_stabilizer')>, <IBMBackend('simulator_statevector')>, <IBMBackend('simulator_stabilizer')>, <IBMBackend('ibmq_manila')>, <IBMBackend('ibm_nairobi')>, <IBMBackend('ibm_perth')>]\n"
     ]
    }
   ],
   "source": [
    "print(service.backends())"
   ]
  },
  {
   "cell_type": "code",
   "execution_count": 12,
   "id": "11a913f4-1074-4d0d-9cd7-bb99af4cbced",
   "metadata": {},
   "outputs": [
    {
     "name": "stdout",
     "output_type": "stream",
     "text": [
      "NoiseModel:\n",
      "  Basis gates: ['cx', 'delay', 'id', 'measure', 'reset', 'rz', 'sx', 'x']\n",
      "  Instructions with noise: ['measure', 'cx', 'reset', 'x', 'sx', 'id']\n",
      "  Qubits with noise: [0, 1, 2, 3, 4, 5, 6]\n",
      "  Specific qubit errors: [('id', (0,)), ('id', (1,)), ('id', (2,)), ('id', (3,)), ('id', (4,)), ('id', (5,)), ('id', (6,)), ('sx', (0,)), ('sx', (1,)), ('sx', (2,)), ('sx', (3,)), ('sx', (4,)), ('sx', (5,)), ('sx', (6,)), ('x', (0,)), ('x', (1,)), ('x', (2,)), ('x', (3,)), ('x', (4,)), ('x', (5,)), ('x', (6,)), ('cx', (6, 5)), ('cx', (5, 6)), ('cx', (3, 5)), ('cx', (5, 3)), ('cx', (3, 1)), ('cx', (1, 3)), ('cx', (2, 1)), ('cx', (1, 2)), ('cx', (0, 1)), ('cx', (1, 0)), ('cx', (4, 5)), ('cx', (5, 4)), ('reset', (0,)), ('reset', (1,)), ('reset', (2,)), ('reset', (3,)), ('reset', (4,)), ('reset', (5,)), ('reset', (6,)), ('measure', (0,)), ('measure', (1,)), ('measure', (2,)), ('measure', (3,)), ('measure', (4,)), ('measure', (5,)), ('measure', (6,))]\n"
     ]
    }
   ],
   "source": [
    "from qiskit.providers.aer.noise import NoiseModel\n",
    "\n",
    "\n",
    "# Get a real backend\n",
    "real_backend = service.get_backend('ibm_perth')\n",
    "# Create a noise model from the real backend\n",
    "noise_model = NoiseModel.from_backend(real_backend)\n",
    "print(noise_model)\n",
    "\n"
   ]
  },
  {
   "cell_type": "code",
   "execution_count": 15,
   "id": "50f06a18-5d62-49d2-b330-2886c4f01c11",
   "metadata": {
    "tags": []
   },
   "outputs": [],
   "source": [
    "# Use the IBM quantum backend\n",
    "backend = service.backend(\"ibmq_qasm_simulator\")\n"
   ]
  },
  {
   "cell_type": "code",
   "execution_count": null,
   "id": "90bf807c-b4bf-4ee5-8ddd-542c1aac9d07",
   "metadata": {
    "tags": []
   },
   "outputs": [],
   "source": []
  },
  {
   "cell_type": "code",
   "execution_count": null,
   "id": "d17906b0-8c7c-4803-93d9-4f910edf2efe",
   "metadata": {
    "tags": []
   },
   "outputs": [],
   "source": []
  },
  {
   "cell_type": "code",
   "execution_count": 16,
   "id": "298f9f81-6a12-401e-9a28-7e3c1a92333b",
   "metadata": {
    "tags": []
   },
   "outputs": [],
   "source": [
    "from qiskit.utils import QuantumInstance\n",
    "from qiskit import Aer\n",
    "from qiskit.providers.aer import QasmSimulator\n",
    "# backend = QasmSimulator(noise_model=noise_model)\n",
    "with Session(service=service, backend=backend):\n",
    "    sampler = Sampler()\n",
    "    fidelity = ComputeUncompute(sampler=sampler)\n",
    "    quantum_kernel = FidelityQuantumKernel(fidelity=fidelity, feature_map=fm)\n",
    "    qsvc = QSVC(quantum_kernel=quantum_kernel)\n",
    "    qsvc.fit(Xtrain, ytrain)"
   ]
  },
  {
   "cell_type": "code",
   "execution_count": null,
   "id": "841291c2-6277-44ed-b583-589d5bed96f8",
   "metadata": {},
   "outputs": [],
   "source": []
  },
  {
   "cell_type": "code",
   "execution_count": null,
   "id": "38830fea-de0f-433f-929e-4cb2637f6ae9",
   "metadata": {},
   "outputs": [],
   "source": []
  },
  {
   "cell_type": "code",
   "execution_count": null,
   "id": "42678312-2601-4b57-9cc2-98f0c155d87a",
   "metadata": {},
   "outputs": [],
   "source": []
  },
  {
   "cell_type": "code",
   "execution_count": null,
   "id": "53ab2d46-16e4-412e-91f9-65476475c25b",
   "metadata": {},
   "outputs": [],
   "source": []
  },
  {
   "cell_type": "markdown",
   "id": "7e47d67d-8167-4091-93c5-e140ab5010e0",
   "metadata": {},
   "source": [
    "Fit and Test the Model"
   ]
  },
  {
   "cell_type": "code",
   "execution_count": null,
   "id": "81ea59a1-9fd5-41b5-a1f4-04d6734a763a",
   "metadata": {},
   "outputs": [],
   "source": [
    "# # Use QSVC for classification\n",
    "# qsvc = QSVC(quantum_kernel=optimized_kernel)\n",
    "\n",
    "# # Fit the QSVC\n",
    "# qsvc.fit(Xtrain, ytrain)"
   ]
  },
  {
   "cell_type": "code",
   "execution_count": null,
   "id": "ff122dc8-649d-4500-a39b-771de1ef1bdb",
   "metadata": {
    "tags": []
   },
   "outputs": [],
   "source": [
    "\n",
    "\n",
    "# Predict the labels\n",
    "labels_test = qsvc.predict(Xtest)\n",
    "\n",
    "# Evalaute the test accuracy\n",
    "accuracy_test = metrics.balanced_accuracy_score(y_true=ytest, y_pred=labels_test)\n",
    "print(f\"accuracy test: {accuracy_test}\")"
   ]
  },
  {
   "cell_type": "code",
   "execution_count": null,
   "id": "78fc5271-9627-4dc1-ae44-1cd0bbf4e5b0",
   "metadata": {},
   "outputs": [],
   "source": [
    "from sklearn.metrics import classification_report, confusion_matrix\n",
    "print(confusion_matrix(ytest,labels_test))\n",
    "print(classification_report(ytest,labels_test))"
   ]
  },
  {
   "cell_type": "markdown",
   "id": "1b1dd7ad-020a-4a06-8026-32a9a6d6e587",
   "metadata": {},
   "source": [
    "Visualize the Kernel Training Process"
   ]
  },
  {
   "cell_type": "code",
   "execution_count": null,
   "id": "ba39bd27-a0d9-42fc-871a-9260234d2aef",
   "metadata": {},
   "outputs": [],
   "source": [
    "# plot_data = cb_qkt.get_callback_data()  # callback data\n",
    "# K = optimized_kernel.evaluate(Xtrain)  # kernel matrix evaluated on the training samples\n",
    "\n",
    "# plt.rcParams[\"font.size\"] = 20\n",
    "# fig, ax = plt.subplots(1, 2, figsize=(14, 5))\n",
    "# ax[0].plot([i + 1 for i in range(len(plot_data[0]))], np.array(plot_data[2]), c=\"k\", marker=\"o\")\n",
    "# ax[0].set_xlabel(\"Iterations\")\n",
    "# ax[0].set_ylabel(\"Loss\")\n",
    "# ax[1].imshow(K, cmap=cm.get_cmap(\"bwr\", 20))\n",
    "# fig.tight_layout()\n",
    "# plt.show()"
   ]
  },
  {
   "cell_type": "code",
   "execution_count": null,
   "id": "350302ae-7b98-44ad-be50-7f82bfbb8e88",
   "metadata": {},
   "outputs": [],
   "source": []
  }
 ],
 "metadata": {
  "kernelspec": {
   "display_name": "Python 3 (ipykernel)",
   "language": "python",
   "name": "python3"
  },
  "language_info": {
   "codemirror_mode": {
    "name": "ipython",
    "version": 3
   },
   "file_extension": ".py",
   "mimetype": "text/x-python",
   "name": "python",
   "nbconvert_exporter": "python",
   "pygments_lexer": "ipython3",
   "version": "3.10.9"
  },
  "widgets": {
   "application/vnd.jupyter.widget-state+json": {
    "state": {
     "0089024323444d48ab16bfb63fdee9cc": {
      "model_module": "@jupyter-widgets/controls",
      "model_module_version": "2.0.0",
      "model_name": "ButtonStyleModel",
      "state": {
       "font_family": null,
       "font_size": null,
       "font_style": null,
       "font_variant": null,
       "font_weight": null,
       "text_color": null,
       "text_decoration": null
      }
     },
     "046d270dcd5d44449d1ccd211ff06baf": {
      "model_module": "@jupyter-widgets/controls",
      "model_module_version": "2.0.0",
      "model_name": "HTMLModel",
      "state": {
       "layout": "IPY_MODEL_37c87fb5c9fe4afcadf9729ef429384f",
       "style": "IPY_MODEL_0ba769b608a046dca7355144ad4526de",
       "value": "<p style='font-family: IBM Plex Sans, Arial, Helvetica, sans-serif; font-size: 20px; font-weight: medium;'>Circuit Properties</p>"
      }
     },
     "0ba769b608a046dca7355144ad4526de": {
      "model_module": "@jupyter-widgets/controls",
      "model_module_version": "2.0.0",
      "model_name": "HTMLStyleModel",
      "state": {
       "description_width": "",
       "font_size": null,
       "text_color": null
      }
     },
     "19ec9584275a40ef962d43d379e6842f": {
      "model_module": "@jupyter-widgets/base",
      "model_module_version": "2.0.0",
      "model_name": "LayoutModel",
      "state": {
       "grid_template_areas": "\n                                       \". . . . right \"\n                                        ",
       "grid_template_columns": "20% 20% 20% 20% 20%",
       "width": "100%"
      }
     },
     "31975fb8b51841f29a8c3bba4145b0eb": {
      "model_module": "@jupyter-widgets/controls",
      "model_module_version": "2.0.0",
      "model_name": "HTMLModel",
      "state": {
       "layout": "IPY_MODEL_8a455810be7c4702aa5da10c8b3e5fa0",
       "style": "IPY_MODEL_428902e60602419ba3bb6d82e1af6745",
       "value": "<h5>Status</h5>"
      }
     },
     "37167b607402447d811507fea92864e3": {
      "model_module": "@jupyter-widgets/controls",
      "model_module_version": "2.0.0",
      "model_name": "HTMLStyleModel",
      "state": {
       "description_width": "",
       "font_size": null,
       "text_color": null
      }
     },
     "37c87fb5c9fe4afcadf9729ef429384f": {
      "model_module": "@jupyter-widgets/base",
      "model_module_version": "2.0.0",
      "model_name": "LayoutModel",
      "state": {
       "margin": "0px 0px 10px 0px"
      }
     },
     "39e284d06dd3426795c2e0a1580b2241": {
      "model_module": "@jupyter-widgets/base",
      "model_module_version": "2.0.0",
      "model_name": "LayoutModel",
      "state": {}
     },
     "428902e60602419ba3bb6d82e1af6745": {
      "model_module": "@jupyter-widgets/controls",
      "model_module_version": "2.0.0",
      "model_name": "HTMLStyleModel",
      "state": {
       "description_width": "",
       "font_size": null,
       "text_color": null
      }
     },
     "4d3ee1a0c7d84d8ba8dbb4b4180c642c": {
      "model_module": "@jupyter-widgets/controls",
      "model_module_version": "2.0.0",
      "model_name": "HTMLStyleModel",
      "state": {
       "description_width": "",
       "font_size": null,
       "text_color": null
      }
     },
     "4f5f733cde214a8187916a0cb540ea77": {
      "model_module": "@jupyter-widgets/controls",
      "model_module_version": "2.0.0",
      "model_name": "GridBoxModel",
      "state": {
       "children": [
        "IPY_MODEL_6a4af3a011f14411813309a4bf821cf1"
       ],
       "layout": "IPY_MODEL_19ec9584275a40ef962d43d379e6842f"
      }
     },
     "575025213166496aa836a3f8187329fd": {
      "model_module": "@jupyter-widgets/base",
      "model_module_version": "2.0.0",
      "model_name": "LayoutModel",
      "state": {
       "margin": "0px 0px 0px 37px",
       "width": "600px"
      }
     },
     "6a4af3a011f14411813309a4bf821cf1": {
      "model_module": "@jupyter-widgets/controls",
      "model_module_version": "2.0.0",
      "model_name": "ButtonModel",
      "state": {
       "button_style": "primary",
       "description": "Clear",
       "layout": "IPY_MODEL_a5337f9ce1154b4c8f51b651a1f4ff04",
       "style": "IPY_MODEL_0089024323444d48ab16bfb63fdee9cc",
       "tooltip": null
      }
     },
     "6a6c4af216884142a3ce60957bbab814": {
      "model_module": "@jupyter-widgets/controls",
      "model_module_version": "2.0.0",
      "model_name": "HTMLStyleModel",
      "state": {
       "description_width": "",
       "font_size": null,
       "text_color": null
      }
     },
     "6cb17c377b8b4d838f84d7ad8a57b902": {
      "model_module": "@jupyter-widgets/controls",
      "model_module_version": "2.0.0",
      "model_name": "HTMLStyleModel",
      "state": {
       "description_width": "",
       "font_size": null,
       "text_color": null
      }
     },
     "747f5437f8c8405996dc28e2ffc1c30d": {
      "model_module": "@jupyter-widgets/controls",
      "model_module_version": "2.0.0",
      "model_name": "HBoxModel",
      "state": {
       "children": [
        "IPY_MODEL_b7f7deb5b121437396f6835fe7f96646",
        "IPY_MODEL_b0f0d8b0aa1e4bfdb35a7c74ae55bd57",
        "IPY_MODEL_31975fb8b51841f29a8c3bba4145b0eb",
        "IPY_MODEL_9faeaf10d53d4ba59bc3502040e0288c",
        "IPY_MODEL_764e5b9afdf34360b4e48356641aae57"
       ],
       "layout": "IPY_MODEL_575025213166496aa836a3f8187329fd"
      }
     },
     "764e5b9afdf34360b4e48356641aae57": {
      "model_module": "@jupyter-widgets/controls",
      "model_module_version": "2.0.0",
      "model_name": "HTMLModel",
      "state": {
       "layout": "IPY_MODEL_39e284d06dd3426795c2e0a1580b2241",
       "style": "IPY_MODEL_6cb17c377b8b4d838f84d7ad8a57b902",
       "value": "<h5>Message</h5>"
      }
     },
     "8a455810be7c4702aa5da10c8b3e5fa0": {
      "model_module": "@jupyter-widgets/base",
      "model_module_version": "2.0.0",
      "model_name": "LayoutModel",
      "state": {
       "width": "95px"
      }
     },
     "9acd4e70d4604dcea74ddae05cb05238": {
      "model_module": "@jupyter-widgets/base",
      "model_module_version": "2.0.0",
      "model_name": "LayoutModel",
      "state": {
       "width": "190px"
      }
     },
     "9d1c47fb68294f99b80f52ec2386af7f": {
      "model_module": "@jupyter-widgets/base",
      "model_module_version": "2.0.0",
      "model_name": "LayoutModel",
      "state": {
       "width": "145px"
      }
     },
     "9faeaf10d53d4ba59bc3502040e0288c": {
      "model_module": "@jupyter-widgets/controls",
      "model_module_version": "2.0.0",
      "model_name": "HTMLModel",
      "state": {
       "layout": "IPY_MODEL_a00c52cb5fbd41b2ac5d0e8f77026667",
       "style": "IPY_MODEL_37167b607402447d811507fea92864e3",
       "value": "<h5>Queue</h5>"
      }
     },
     "a00c52cb5fbd41b2ac5d0e8f77026667": {
      "model_module": "@jupyter-widgets/base",
      "model_module_version": "2.0.0",
      "model_name": "LayoutModel",
      "state": {
       "width": "70px"
      }
     },
     "a5337f9ce1154b4c8f51b651a1f4ff04": {
      "model_module": "@jupyter-widgets/base",
      "model_module_version": "2.0.0",
      "model_name": "LayoutModel",
      "state": {
       "grid_area": "right",
       "padding": "0px 0px 0px 0px",
       "width": "70px"
      }
     },
     "b0f0d8b0aa1e4bfdb35a7c74ae55bd57": {
      "model_module": "@jupyter-widgets/controls",
      "model_module_version": "2.0.0",
      "model_name": "HTMLModel",
      "state": {
       "layout": "IPY_MODEL_9d1c47fb68294f99b80f52ec2386af7f",
       "style": "IPY_MODEL_6a6c4af216884142a3ce60957bbab814",
       "value": "<h5>Backend</h5>"
      }
     },
     "b7f7deb5b121437396f6835fe7f96646": {
      "model_module": "@jupyter-widgets/controls",
      "model_module_version": "2.0.0",
      "model_name": "HTMLModel",
      "state": {
       "layout": "IPY_MODEL_9acd4e70d4604dcea74ddae05cb05238",
       "style": "IPY_MODEL_4d3ee1a0c7d84d8ba8dbb4b4180c642c",
       "value": "<h5>Job ID</h5>"
      }
     }
    },
    "version_major": 2,
    "version_minor": 0
   }
  }
 },
 "nbformat": 4,
 "nbformat_minor": 5
}
