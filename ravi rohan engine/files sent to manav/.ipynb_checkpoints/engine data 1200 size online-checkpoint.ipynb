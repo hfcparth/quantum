{
 "cells": [
  {
   "cell_type": "markdown",
   "id": "a2fb2cd8-f2a6-4202-a212-a0d548998d80",
   "metadata": {},
   "source": [
    "Library Import"
   ]
  },
  {
   "cell_type": "code",
   "execution_count": 1,
   "id": "118a4844-8d3e-4fb9-8aa1-db5c51e2090f",
   "metadata": {
    "tags": []
   },
   "outputs": [],
   "source": [
    "# Importing standard Qiskit libraries\n",
    "from qiskit import QuantumCircuit, transpile,BasicAer\n",
    "from qiskit.tools.jupyter import *\n",
    "from qiskit.visualization import *\n",
    "# from ibm_quantum_widgets import *\n",
    "from qiskit_aer import AerSimulator\n",
    "from qiskit.algorithms.optimizers import SPSA\n",
    "import pandas as pd\n",
    "from qiskit.circuit import ParameterVector\n",
    "from qiskit.visualization import circuit_drawer\n",
    "\n",
    "\n",
    "# qiskit-ibmq-provider has been deprecated.\n",
    "# Please see the Migration Guides in https://ibm.biz/provider_migration_guide for more detail.\n",
    "from qiskit_ibm_runtime import QiskitRuntimeService, Sampler, Estimator, Session, Options\n",
    "\n",
    "# Loading your IBM Quantum account(s)\n",
    "# service = QiskitRuntimeService(channel=\"ibm_quantum\")\n",
    "from pylab import cm\n",
    "from sklearn import metrics\n",
    "from sklearn.model_selection import train_test_split\n",
    "import matplotlib.pyplot as plt\n",
    "import numpy as np\n",
    "from qiskit.circuit.library import ZZFeatureMap\n",
    "from qiskit_machine_learning.kernels import TrainableFidelityQuantumKernel\n",
    "from qiskit_machine_learning.kernels.algorithms import QuantumKernelTrainer\n",
    "from qiskit_machine_learning.algorithms import QSVC\n",
    "# Invoke a primitive inside a session. For more details see https://qiskit.org/documentation/partners/qiskit_ibm_runtime/tutorials.html\n",
    "# with Session(backend=service.backend(\"ibmq_qasm_simulator\")):\n",
    "#     result = Sampler().run(circuits).result()"
   ]
  },
  {
   "cell_type": "code",
   "execution_count": 2,
   "id": "874ffdc8-8f3e-4943-ba2f-77174ca80104",
   "metadata": {
    "tags": []
   },
   "outputs": [],
   "source": [
    "class QKTCallback:\n",
    "    \"\"\"Callback wrapper class.\"\"\"\n",
    "\n",
    "    def __init__(self) -> None:\n",
    "        self._data = [[] for i in range(5)]\n",
    "\n",
    "    def callback(self, x0, x1=None, x2=None, x3=None, x4=None):\n",
    "        \"\"\"\n",
    "        Args:\n",
    "            x0: number of function evaluations\n",
    "            x1: the parameters\n",
    "            x2: the function value\n",
    "            x3: the stepsize\n",
    "            x4: whether the step was accepted\n",
    "        \"\"\"\n",
    "        self._data[0].append(x0)\n",
    "        self._data[1].append(x1)\n",
    "        self._data[2].append(x2)\n",
    "        self._data[3].append(x3)\n",
    "        self._data[4].append(x4)\n",
    "\n",
    "    def get_callback_data(self):\n",
    "        return self._data\n",
    "\n",
    "    def clear_callback_data(self):\n",
    "        self._data = [[] for i in range(5)]"
   ]
  },
  {
   "cell_type": "markdown",
   "id": "1070377f-5f5c-4afb-a76e-68785178fc70",
   "metadata": {},
   "source": [
    "Preparing the Dataset"
   ]
  },
  {
   "cell_type": "code",
   "execution_count": 3,
   "id": "1fd88628-4c40-4ad7-8a2c-4ded12ad5bd9",
   "metadata": {},
   "outputs": [
    {
     "data": {
      "text/html": [
       "<div>\n",
       "<style scoped>\n",
       "    .dataframe tbody tr th:only-of-type {\n",
       "        vertical-align: middle;\n",
       "    }\n",
       "\n",
       "    .dataframe tbody tr th {\n",
       "        vertical-align: top;\n",
       "    }\n",
       "\n",
       "    .dataframe thead th {\n",
       "        text-align: right;\n",
       "    }\n",
       "</style>\n",
       "<table border=\"1\" class=\"dataframe\">\n",
       "  <thead>\n",
       "    <tr style=\"text-align: right;\">\n",
       "      <th></th>\n",
       "      <th>Coolant temp</th>\n",
       "      <th>Fuel pressure</th>\n",
       "      <th>LOG(Engine rpm)</th>\n",
       "      <th>LOG(Lub oil pressure)</th>\n",
       "      <th>LOG(Coolant pressure)</th>\n",
       "      <th>lub oil temp</th>\n",
       "    </tr>\n",
       "  </thead>\n",
       "  <tbody>\n",
       "    <tr>\n",
       "      <th>0</th>\n",
       "      <td>0.378798</td>\n",
       "      <td>0.194573</td>\n",
       "      <td>-0.403723</td>\n",
       "      <td>-0.156866</td>\n",
       "      <td>0.609450</td>\n",
       "      <td>-0.647042</td>\n",
       "    </tr>\n",
       "    <tr>\n",
       "      <th>1</th>\n",
       "      <td>-0.661059</td>\n",
       "      <td>0.819829</td>\n",
       "      <td>-0.474395</td>\n",
       "      <td>0.055928</td>\n",
       "      <td>-0.501173</td>\n",
       "      <td>-0.412013</td>\n",
       "    </tr>\n",
       "    <tr>\n",
       "      <th>2</th>\n",
       "      <td>0.164395</td>\n",
       "      <td>-0.747890</td>\n",
       "      <td>-0.399070</td>\n",
       "      <td>-0.058519</td>\n",
       "      <td>-0.837652</td>\n",
       "      <td>-0.660157</td>\n",
       "    </tr>\n",
       "    <tr>\n",
       "      <th>3</th>\n",
       "      <td>0.156554</td>\n",
       "      <td>-0.013427</td>\n",
       "      <td>-0.289468</td>\n",
       "      <td>-0.201974</td>\n",
       "      <td>-0.023269</td>\n",
       "      <td>0.426760</td>\n",
       "    </tr>\n",
       "    <tr>\n",
       "      <th>4</th>\n",
       "      <td>0.505237</td>\n",
       "      <td>-0.166614</td>\n",
       "      <td>0.602176</td>\n",
       "      <td>0.836690</td>\n",
       "      <td>-0.656969</td>\n",
       "      <td>0.249762</td>\n",
       "    </tr>\n",
       "    <tr>\n",
       "      <th>...</th>\n",
       "      <td>...</td>\n",
       "      <td>...</td>\n",
       "      <td>...</td>\n",
       "      <td>...</td>\n",
       "      <td>...</td>\n",
       "      <td>...</td>\n",
       "    </tr>\n",
       "    <tr>\n",
       "      <th>95</th>\n",
       "      <td>-0.884290</td>\n",
       "      <td>0.040091</td>\n",
       "      <td>0.777673</td>\n",
       "      <td>-0.467569</td>\n",
       "      <td>0.154738</td>\n",
       "      <td>0.209133</td>\n",
       "    </tr>\n",
       "    <tr>\n",
       "      <th>96</th>\n",
       "      <td>0.902019</td>\n",
       "      <td>-0.757283</td>\n",
       "      <td>-0.460128</td>\n",
       "      <td>-0.180675</td>\n",
       "      <td>-0.907839</td>\n",
       "      <td>-0.999488</td>\n",
       "    </tr>\n",
       "    <tr>\n",
       "      <th>97</th>\n",
       "      <td>0.811322</td>\n",
       "      <td>-0.379870</td>\n",
       "      <td>0.097491</td>\n",
       "      <td>-0.517297</td>\n",
       "      <td>0.843562</td>\n",
       "      <td>-0.883049</td>\n",
       "    </tr>\n",
       "    <tr>\n",
       "      <th>98</th>\n",
       "      <td>-0.839708</td>\n",
       "      <td>-0.204923</td>\n",
       "      <td>-0.887294</td>\n",
       "      <td>-0.748386</td>\n",
       "      <td>-0.496225</td>\n",
       "      <td>0.102446</td>\n",
       "    </tr>\n",
       "    <tr>\n",
       "      <th>99</th>\n",
       "      <td>0.750976</td>\n",
       "      <td>-0.138932</td>\n",
       "      <td>0.318344</td>\n",
       "      <td>0.005000</td>\n",
       "      <td>0.182708</td>\n",
       "      <td>-0.295389</td>\n",
       "    </tr>\n",
       "  </tbody>\n",
       "</table>\n",
       "<p>100 rows × 6 columns</p>\n",
       "</div>"
      ],
      "text/plain": [
       "    Coolant temp  Fuel pressure  LOG(Engine rpm)  LOG(Lub oil pressure)  \\\n",
       "0       0.378798       0.194573        -0.403723              -0.156866   \n",
       "1      -0.661059       0.819829        -0.474395               0.055928   \n",
       "2       0.164395      -0.747890        -0.399070              -0.058519   \n",
       "3       0.156554      -0.013427        -0.289468              -0.201974   \n",
       "4       0.505237      -0.166614         0.602176               0.836690   \n",
       "..           ...            ...              ...                    ...   \n",
       "95     -0.884290       0.040091         0.777673              -0.467569   \n",
       "96      0.902019      -0.757283        -0.460128              -0.180675   \n",
       "97      0.811322      -0.379870         0.097491              -0.517297   \n",
       "98     -0.839708      -0.204923        -0.887294              -0.748386   \n",
       "99      0.750976      -0.138932         0.318344               0.005000   \n",
       "\n",
       "    LOG(Coolant pressure)  lub oil temp  \n",
       "0                0.609450     -0.647042  \n",
       "1               -0.501173     -0.412013  \n",
       "2               -0.837652     -0.660157  \n",
       "3               -0.023269      0.426760  \n",
       "4               -0.656969      0.249762  \n",
       "..                    ...           ...  \n",
       "95               0.154738      0.209133  \n",
       "96              -0.907839     -0.999488  \n",
       "97               0.843562     -0.883049  \n",
       "98              -0.496225      0.102446  \n",
       "99               0.182708     -0.295389  \n",
       "\n",
       "[100 rows x 6 columns]"
      ]
     },
     "execution_count": 3,
     "metadata": {},
     "output_type": "execute_result"
    }
   ],
   "source": [
    "df = pd.read_csv(r'200 EXAMPLES.csv')\n",
    "ytrain= df.iloc[:,7]\n",
    "Xtrain= df.iloc[:,1:7]\n",
    "Xtrain"
   ]
  },
  {
   "cell_type": "code",
   "execution_count": null,
   "id": "10e356e0-2137-4cab-87e3-c67da723b426",
   "metadata": {},
   "outputs": [],
   "source": []
  },
  {
   "cell_type": "code",
   "execution_count": 4,
   "id": "1f0f5e53-9205-4225-aa88-c5d3a8afe3e9",
   "metadata": {
    "tags": []
   },
   "outputs": [],
   "source": [
    "#To reduce training dataset size\n",
    "Xtrain,Xtest , ytrain, ytest = train_test_split(Xtrain, ytrain,stratify=ytrain, test_size=0.25)"
   ]
  },
  {
   "cell_type": "code",
   "execution_count": null,
   "id": "f47e9816-4f24-47a6-8274-694f64e79983",
   "metadata": {
    "tags": []
   },
   "outputs": [],
   "source": []
  },
  {
   "cell_type": "markdown",
   "id": "f1777704-45d7-4696-9612-76e03764fc25",
   "metadata": {},
   "source": [
    "Define the Quantum Feature Map\n"
   ]
  },
  {
   "cell_type": "code",
   "execution_count": 5,
   "id": "83ad0030-c5d3-4daa-8aff-70f780686999",
   "metadata": {
    "tags": []
   },
   "outputs": [
    {
     "name": "stdout",
     "output_type": "stream",
     "text": [
      "Figure(454.719x535.111)\n",
      "Trainable parameters: θ, ['θ[0]']\n"
     ]
    },
    {
     "data": {
      "image/png": "[encoded data removed]",
      "text/plain": [
       "<Figure size 454.719x535.111 with 1 Axes>"
      ]
     },
     "execution_count": 5,
     "metadata": {},
     "output_type": "execute_result"
    }
   ],
   "source": [
    "from qiskit.circuit.library import PauliFeatureMap\n",
    "from qiskit.visualization import circuit_drawer\n",
    "\n",
    "# Define the parameter vector\n",
    "training_params = ParameterVector(\"θ\", 1)\n",
    "\n",
    "# Define the quantum circuit with PauliFeatureMap\n",
    "fm0 = QuantumCircuit(6)\n",
    "for i in range(6):\n",
    "    fm0.rx(training_params[0], i)\n",
    "\n",
    "# Define the PauliFeatureMap\n",
    "fm1 = PauliFeatureMap(feature_dimension=6, reps=2)\n",
    "\n",
    "# Create the feature map, composed of the two circuits\n",
    "fm = fm0.compose(fm1)\n",
    "\n",
    "# Print the circuit and trainable parameters\n",
    "print(circuit_drawer(fm, output='mpl'))\n",
    "print(f\"Trainable parameters: {training_params}\")\n",
    "fm.draw(output=\"mpl\")\n"
   ]
  },
  {
   "cell_type": "code",
   "execution_count": 6,
   "id": "5c468505-6ecd-49e4-81ab-7938a24d0e8f",
   "metadata": {
    "tags": []
   },
   "outputs": [
    {
     "name": "stdout",
     "output_type": "stream",
     "text": [
      "2\n"
     ]
    }
   ],
   "source": [
    "print(fm.depth())"
   ]
  },
  {
   "cell_type": "code",
   "execution_count": null,
   "id": "c848cd14-1897-49c2-a0f5-e0f4305dd7fb",
   "metadata": {},
   "outputs": [],
   "source": [
    "# Connecting with IBMQ\n",
    "from qiskit_ibm_runtime import QiskitRuntimeService, Sampler, Estimator, Session, Options\n",
    "# Loading your IBM Quantum account(s)\n",
    "service = QiskitRuntimeService(channel=\"ibm_quantum\")"
   ]
  },
  {
   "cell_type": "code",
   "execution_count": null,
   "id": "3ccff264-8bd8-4ab0-afc6-0ade3b339025",
   "metadata": {},
   "outputs": [],
   "source": [
    "# Use the IBM quantum backend\n",
    "backend = service.backend(\"ibmq_kolkata\")"
   ]
  },
  {
   "cell_type": "code",
   "execution_count": 7,
   "id": "90bf807c-b4bf-4ee5-8ddd-542c1aac9d07",
   "metadata": {
    "tags": []
   },
   "outputs": [],
   "source": [
    "# Instantiate quantum kernel\n",
    "quant_kernel = QuantumKernel(feature_map=fm, training_parameters=training_params, quantum_instance=backend)\n",
    "\n",
    "# Set up the optimizer\n",
    "cb_qkt = QKTCallback()\n",
    "spsa_opt = SPSA(maxiter=10, callback=cb_qkt.callback, learning_rate=0.1, perturbation=0.1)\n",
    "\n",
    "# Instantiate a quantum kernel trainer.\n",
    "qkt = QuantumKernelTrainer(\n",
    "    quantum_kernel=quant_kernel, loss=\"svc_loss\", optimizer=spsa_opt, initial_point=[np.pi / 2]\n",
    ")"
   ]
  },
  {
   "cell_type": "code",
   "execution_count": 8,
   "id": "d17906b0-8c7c-4803-93d9-4f910edf2efe",
   "metadata": {
    "tags": []
   },
   "outputs": [
    {
     "name": "stdout",
     "output_type": "stream",
     "text": [
      "{   'optimal_circuit': None,\n",
      "    'optimal_parameters': {ParameterVectorElement(θ[0]): 1.951382426093632},\n",
      "    'optimal_point': array([1.95138243]),\n",
      "    'optimal_value': 37.68404172607811,\n",
      "    'optimizer_evals': 30,\n",
      "    'optimizer_result': None,\n",
      "    'optimizer_time': None,\n",
      "    'quantum_kernel': <qiskit_machine_learning.kernels.trainable_fidelity_quantum_kernel.TrainableFidelityQuantumKernel object at 0x0000016CBB0A30D0>}\n"
     ]
    }
   ],
   "source": [
    "# Train the kernel using QKT directly\n",
    "qka_results = qkt.fit(Xtrain, ytrain)\n",
    "optimized_kernel = qka_results.quantum_kernel\n",
    "print(qka_results)"
   ]
  },
  {
   "cell_type": "code",
   "execution_count": null,
   "id": "298f9f81-6a12-401e-9a28-7e3c1a92333b",
   "metadata": {},
   "outputs": [],
   "source": []
  },
  {
   "cell_type": "markdown",
   "id": "7e47d67d-8167-4091-93c5-e140ab5010e0",
   "metadata": {},
   "source": [
    "Fit and Test the Model"
   ]
  },
  {
   "cell_type": "code",
   "execution_count": 9,
   "id": "ff122dc8-649d-4500-a39b-771de1ef1bdb",
   "metadata": {
    "tags": []
   },
   "outputs": [
    {
     "name": "stdout",
     "output_type": "stream",
     "text": [
      "accuracy test: 0.6057692307692308\n"
     ]
    }
   ],
   "source": [
    "# Use QSVC for classification\n",
    "qsvc = QSVC(quantum_kernel=optimized_kernel)\n",
    "\n",
    "# Fit the QSVC\n",
    "qsvc.fit(Xtrain, ytrain)\n",
    "\n",
    "# Predict the labels\n",
    "labels_test = qsvc.predict(Xtest)\n",
    "\n",
    "# Evalaute the test accuracy\n",
    "accuracy_test = metrics.balanced_accuracy_score(y_true=ytest, y_pred=labels_test)\n",
    "print(f\"accuracy test: {accuracy_test}\")"
   ]
  },
  {
   "cell_type": "code",
   "execution_count": 10,
   "id": "78fc5271-9627-4dc1-ae44-1cd0bbf4e5b0",
   "metadata": {},
   "outputs": [
    {
     "name": "stdout",
     "output_type": "stream",
     "text": [
      "[[6 7]\n",
      " [3 9]]\n",
      "              precision    recall  f1-score   support\n",
      "\n",
      "           0       0.67      0.46      0.55        13\n",
      "           1       0.56      0.75      0.64        12\n",
      "\n",
      "    accuracy                           0.60        25\n",
      "   macro avg       0.61      0.61      0.59        25\n",
      "weighted avg       0.62      0.60      0.59        25\n",
      "\n"
     ]
    }
   ],
   "source": [
    "from sklearn.metrics import classification_report, confusion_matrix\n",
    "print(confusion_matrix(ytest,labels_test))\n",
    "print(classification_report(ytest,labels_test))"
   ]
  },
  {
   "cell_type": "markdown",
   "id": "1b1dd7ad-020a-4a06-8026-32a9a6d6e587",
   "metadata": {},
   "source": [
    "Visualize the Kernel Training Process"
   ]
  },
  {
   "cell_type": "code",
   "execution_count": 11,
   "id": "ba39bd27-a0d9-42fc-871a-9260234d2aef",
   "metadata": {},
   "outputs": [
    {
     "name": "stderr",
     "output_type": "stream",
     "text": [
      "C:\\Users\\hfcpa\\AppData\\Local\\Temp\\ipykernel_10812\\289907276.py:9: MatplotlibDeprecationWarning: The get_cmap function was deprecated in Matplotlib 3.7 and will be removed two minor releases later. Use ``matplotlib.colormaps[name]`` or ``matplotlib.colormaps.get_cmap(obj)`` instead.\n",
      "  ax[1].imshow(K, cmap=cm.get_cmap(\"bwr\", 20))\n"
     ]
    },
    {
     "data": {
      "image/png": "[encoded data removed]",
      "text/plain": [
       "<Figure size 1400x500 with 2 Axes>"
      ]
     },
     "metadata": {},
     "output_type": "display_data"
    }
   ],
   "source": [
    "plot_data = cb_qkt.get_callback_data()  # callback data\n",
    "K = optimized_kernel.evaluate(Xtrain)  # kernel matrix evaluated on the training samples\n",
    "\n",
    "plt.rcParams[\"font.size\"] = 20\n",
    "fig, ax = plt.subplots(1, 2, figsize=(14, 5))\n",
    "ax[0].plot([i + 1 for i in range(len(plot_data[0]))], np.array(plot_data[2]), c=\"k\", marker=\"o\")\n",
    "ax[0].set_xlabel(\"Iterations\")\n",
    "ax[0].set_ylabel(\"Loss\")\n",
    "ax[1].imshow(K, cmap=cm.get_cmap(\"bwr\", 20))\n",
    "fig.tight_layout()\n",
    "plt.show()"
   ]
  },
  {
   "cell_type": "code",
   "execution_count": null,
   "id": "350302ae-7b98-44ad-be50-7f82bfbb8e88",
   "metadata": {},
   "outputs": [],
   "source": []
  }
 ],
 "metadata": {
  "kernelspec": {
   "display_name": "Python 3 (ipykernel)",
   "language": "python",
   "name": "python3"
  },
  "language_info": {
   "codemirror_mode": {
    "name": "ipython",
    "version": 3
   },
   "file_extension": ".py",
   "mimetype": "text/x-python",
   "name": "python",
   "nbconvert_exporter": "python",
   "pygments_lexer": "ipython3",
   "version": "3.10.8"
  },
  "widgets": {
   "application/vnd.jupyter.widget-state+json": {
    "state": {},
    "version_major": 2,
    "version_minor": 0
   }
  }
 },
 "nbformat": 4,
 "nbformat_minor": 5
}
