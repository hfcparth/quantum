{
 "cells": [
  {
   "cell_type": "markdown",
   "id": "a2fb2cd8-f2a6-4202-a212-a0d548998d80",
   "metadata": {},
   "source": [
    "Library Import"
   ]
  },
  {
   "cell_type": "code",
   "execution_count": 2,
   "id": "118a4844-8d3e-4fb9-8aa1-db5c51e2090f",
   "metadata": {
    "tags": []
   },
   "outputs": [],
   "source": [
    "# Importing standard Qiskit libraries\n",
    "from qiskit import QuantumCircuit, transpile,BasicAer\n",
    "from qiskit.tools.jupyter import *\n",
    "from qiskit.visualization import *\n",
    "# from ibm_quantum_widgets import *\n",
    "from qiskit_aer import AerSimulator\n",
    "from qiskit.algorithms.optimizers import SPSA\n",
    "import pandas as pd\n",
    "from qiskit.circuit import ParameterVector\n",
    "from qiskit.visualization import circuit_drawer\n",
    "\n",
    "\n",
    "# qiskit-ibmq-provider has been deprecated.\n",
    "# Please see the Migration Guides in https://ibm.biz/provider_migration_guide for more detail.\n",
    "from qiskit_ibm_runtime import QiskitRuntimeService, Sampler, Estimator, Session, Options\n",
    "\n",
    "# Loading your IBM Quantum account(s)\n",
    "# service = QiskitRuntimeService(channel=\"ibm_quantum\")\n",
    "from pylab import cm\n",
    "from sklearn import metrics\n",
    "from sklearn.model_selection import train_test_split\n",
    "import matplotlib.pyplot as plt\n",
    "import numpy as np\n",
    "from qiskit.circuit.library import ZZFeatureMap\n",
    "from qiskit_machine_learning.kernels import TrainableFidelityQuantumKernel\n",
    "from qiskit_machine_learning.kernels.algorithms import QuantumKernelTrainer\n",
    "from qiskit_machine_learning.algorithms import QSVC\n",
    "from qiskit_machine_learning.kernels import QuantumKernel\n",
    "# Invoke a primitive inside a session. For more details see https://qiskit.org/documentation/partners/qiskit_ibm_runtime/tutorials.html\n",
    "# with Session(backend=service.backend(\"ibmq_qasm_simulator\")):\n",
    "#     result = Sampler().run(circuits).result()"
   ]
  },
  {
   "cell_type": "code",
   "execution_count": 3,
   "id": "90d2010b-da00-4831-97ff-f851c6b8c654",
   "metadata": {
    "tags": []
   },
   "outputs": [],
   "source": [
    "# Importing standard Qiskit libraries\n",
    "from qiskit import QuantumCircuit, transpile, BasicAer, IBMQ, execute, Aer, assemble\n",
    "from qiskit.tools.jupyter import *\n",
    "from qiskit.visualization import *\n",
    "from qiskit import Aer\n",
    "from qiskit.algorithms.optimizers import SPSA\n",
    "from qiskit.circuit import ParameterVector\n",
    "from qiskit.visualization import circuit_drawer\n",
    "\n",
    "# General libraries\n",
    "import numpy as np\n",
    "import pandas as pd\n",
    "import matplotlib.pyplot as plt\n",
    "from pylab import cm\n",
    "from sklearn import metrics\n",
    "\n",
    "# QKT related\n",
    "from qiskit.circuit.library import ZZFeatureMap\n",
    "from qiskit_machine_learning.algorithms import QSVC\n",
    "from qiskit_machine_learning.kernels import FidelityQuantumKernel, TrainableFidelityQuantumKernel\n",
    "# from qiskit_machine_learning.kernels.algorithms import QuantumKernelTrainer\n",
    "from qiskit.algorithms.state_fidelities import ComputeUncompute\n",
    "# from qiskit.primitives import Sampler\n",
    "\n",
    "# Additional imports\n",
    "from sklearn.decomposition import PCA\n",
    "from sklearn.metrics import confusion_matrix, classification_report\n",
    "from sklearn.model_selection import train_test_split\n",
    "\n",
    "from collections import Counter"
   ]
  },
  {
   "cell_type": "code",
   "execution_count": 4,
   "id": "874ffdc8-8f3e-4943-ba2f-77174ca80104",
   "metadata": {
    "tags": []
   },
   "outputs": [],
   "source": [
    "class QKTCallback:\n",
    "    \"\"\"Callback wrapper class.\"\"\"\n",
    "\n",
    "    def __init__(self) -> None:\n",
    "        self._data = [[] for i in range(5)]\n",
    "\n",
    "    def callback(self, x0, x1=None, x2=None, x3=None, x4=None):\n",
    "        \"\"\"\n",
    "        Args:\n",
    "            x0: number of function evaluations\n",
    "            x1: the parameters\n",
    "            x2: the function value\n",
    "            x3: the stepsize\n",
    "            x4: whether the step was accepted\n",
    "        \"\"\"\n",
    "        self._data[0].append(x0)\n",
    "        self._data[1].append(x1)\n",
    "        self._data[2].append(x2)\n",
    "        self._data[3].append(x3)\n",
    "        self._data[4].append(x4)\n",
    "\n",
    "    def get_callback_data(self):\n",
    "        return self._data\n",
    "\n",
    "    def clear_callback_data(self):\n",
    "        self._data = [[] for i in range(5)]"
   ]
  },
  {
   "cell_type": "markdown",
   "id": "1070377f-5f5c-4afb-a76e-68785178fc70",
   "metadata": {},
   "source": [
    "Preparing the Dataset"
   ]
  },
  {
   "cell_type": "code",
   "execution_count": 5,
   "id": "1fd88628-4c40-4ad7-8a2c-4ded12ad5bd9",
   "metadata": {
    "tags": []
   },
   "outputs": [
    {
     "data": {
      "text/html": [
       "<div>\n",
       "<style scoped>\n",
       "    .dataframe tbody tr th:only-of-type {\n",
       "        vertical-align: middle;\n",
       "    }\n",
       "\n",
       "    .dataframe tbody tr th {\n",
       "        vertical-align: top;\n",
       "    }\n",
       "\n",
       "    .dataframe thead th {\n",
       "        text-align: right;\n",
       "    }\n",
       "</style>\n",
       "<table border=\"1\" class=\"dataframe\">\n",
       "  <thead>\n",
       "    <tr style=\"text-align: right;\">\n",
       "      <th></th>\n",
       "      <th>Coolant temp</th>\n",
       "      <th>Fuel pressure</th>\n",
       "      <th>LOG(Engine rpm)</th>\n",
       "      <th>LOG(Lub oil pressure)</th>\n",
       "      <th>LOG(Coolant pressure)</th>\n",
       "      <th>lub oil temp</th>\n",
       "    </tr>\n",
       "  </thead>\n",
       "  <tbody>\n",
       "    <tr>\n",
       "      <th>0</th>\n",
       "      <td>-0.772790</td>\n",
       "      <td>0.344223</td>\n",
       "      <td>0.482768</td>\n",
       "      <td>-0.243775</td>\n",
       "      <td>0.243036</td>\n",
       "      <td>0.563408</td>\n",
       "    </tr>\n",
       "    <tr>\n",
       "      <th>1</th>\n",
       "      <td>-0.086326</td>\n",
       "      <td>-0.062279</td>\n",
       "      <td>-0.316501</td>\n",
       "      <td>-0.244287</td>\n",
       "      <td>0.517765</td>\n",
       "      <td>0.034793</td>\n",
       "    </tr>\n",
       "    <tr>\n",
       "      <th>2</th>\n",
       "      <td>-0.385653</td>\n",
       "      <td>-0.147072</td>\n",
       "      <td>0.213726</td>\n",
       "      <td>-0.628313</td>\n",
       "      <td>-0.312446</td>\n",
       "      <td>0.898516</td>\n",
       "    </tr>\n",
       "    <tr>\n",
       "      <th>3</th>\n",
       "      <td>0.490692</td>\n",
       "      <td>0.434899</td>\n",
       "      <td>-0.460128</td>\n",
       "      <td>-0.058842</td>\n",
       "      <td>-0.961579</td>\n",
       "      <td>0.445002</td>\n",
       "    </tr>\n",
       "    <tr>\n",
       "      <th>4</th>\n",
       "      <td>0.580827</td>\n",
       "      <td>0.158654</td>\n",
       "      <td>-0.119384</td>\n",
       "      <td>-0.074489</td>\n",
       "      <td>-0.187463</td>\n",
       "      <td>-0.559568</td>\n",
       "    </tr>\n",
       "    <tr>\n",
       "      <th>...</th>\n",
       "      <td>...</td>\n",
       "      <td>...</td>\n",
       "      <td>...</td>\n",
       "      <td>...</td>\n",
       "      <td>...</td>\n",
       "      <td>...</td>\n",
       "    </tr>\n",
       "    <tr>\n",
       "      <th>195</th>\n",
       "      <td>0.172962</td>\n",
       "      <td>-0.287470</td>\n",
       "      <td>0.507028</td>\n",
       "      <td>-0.450261</td>\n",
       "      <td>-0.991773</td>\n",
       "      <td>0.520044</td>\n",
       "    </tr>\n",
       "    <tr>\n",
       "      <th>196</th>\n",
       "      <td>0.538044</td>\n",
       "      <td>0.534762</td>\n",
       "      <td>0.783982</td>\n",
       "      <td>-0.667502</td>\n",
       "      <td>-0.003361</td>\n",
       "      <td>0.209038</td>\n",
       "    </tr>\n",
       "    <tr>\n",
       "      <th>197</th>\n",
       "      <td>0.139001</td>\n",
       "      <td>-0.308990</td>\n",
       "      <td>0.109317</td>\n",
       "      <td>-0.973335</td>\n",
       "      <td>-0.717331</td>\n",
       "      <td>0.987307</td>\n",
       "    </tr>\n",
       "    <tr>\n",
       "      <th>198</th>\n",
       "      <td>-0.692401</td>\n",
       "      <td>-0.287310</td>\n",
       "      <td>0.089582</td>\n",
       "      <td>-0.116380</td>\n",
       "      <td>-0.163690</td>\n",
       "      <td>0.428278</td>\n",
       "    </tr>\n",
       "    <tr>\n",
       "      <th>199</th>\n",
       "      <td>-0.048245</td>\n",
       "      <td>-0.380093</td>\n",
       "      <td>0.635449</td>\n",
       "      <td>0.370611</td>\n",
       "      <td>0.764489</td>\n",
       "      <td>0.336724</td>\n",
       "    </tr>\n",
       "  </tbody>\n",
       "</table>\n",
       "<p>200 rows × 6 columns</p>\n",
       "</div>"
      ],
      "text/plain": [
       "     Coolant temp  Fuel pressure  LOG(Engine rpm)  LOG(Lub oil pressure)  \\\n",
       "0       -0.772790       0.344223         0.482768              -0.243775   \n",
       "1       -0.086326      -0.062279        -0.316501              -0.244287   \n",
       "2       -0.385653      -0.147072         0.213726              -0.628313   \n",
       "3        0.490692       0.434899        -0.460128              -0.058842   \n",
       "4        0.580827       0.158654        -0.119384              -0.074489   \n",
       "..            ...            ...              ...                    ...   \n",
       "195      0.172962      -0.287470         0.507028              -0.450261   \n",
       "196      0.538044       0.534762         0.783982              -0.667502   \n",
       "197      0.139001      -0.308990         0.109317              -0.973335   \n",
       "198     -0.692401      -0.287310         0.089582              -0.116380   \n",
       "199     -0.048245      -0.380093         0.635449               0.370611   \n",
       "\n",
       "     LOG(Coolant pressure)  lub oil temp  \n",
       "0                 0.243036      0.563408  \n",
       "1                 0.517765      0.034793  \n",
       "2                -0.312446      0.898516  \n",
       "3                -0.961579      0.445002  \n",
       "4                -0.187463     -0.559568  \n",
       "..                     ...           ...  \n",
       "195              -0.991773      0.520044  \n",
       "196              -0.003361      0.209038  \n",
       "197              -0.717331      0.987307  \n",
       "198              -0.163690      0.428278  \n",
       "199               0.764489      0.336724  \n",
       "\n",
       "[200 rows x 6 columns]"
      ]
     },
     "execution_count": 5,
     "metadata": {},
     "output_type": "execute_result"
    }
   ],
   "source": [
    "df = pd.read_csv(r'200 EXAMPLES.csv')\n",
    "ytrain= df.iloc[:,7]\n",
    "Xtrain= df.iloc[:,1:7]\n",
    "Xtrain"
   ]
  },
  {
   "cell_type": "code",
   "execution_count": null,
   "id": "10e356e0-2137-4cab-87e3-c67da723b426",
   "metadata": {},
   "outputs": [],
   "source": []
  },
  {
   "cell_type": "code",
   "execution_count": 6,
   "id": "1f0f5e53-9205-4225-aa88-c5d3a8afe3e9",
   "metadata": {
    "tags": []
   },
   "outputs": [],
   "source": [
    "#To reduce training dataset size\n",
    "Xtrain,Xtest , ytrain, ytest = train_test_split(Xtrain, ytrain,stratify=ytrain, test_size=0.9)"
   ]
  },
  {
   "cell_type": "code",
   "execution_count": 7,
   "id": "f47e9816-4f24-47a6-8274-694f64e79983",
   "metadata": {
    "tags": []
   },
   "outputs": [
    {
     "data": {
      "text/html": [
       "<div>\n",
       "<style scoped>\n",
       "    .dataframe tbody tr th:only-of-type {\n",
       "        vertical-align: middle;\n",
       "    }\n",
       "\n",
       "    .dataframe tbody tr th {\n",
       "        vertical-align: top;\n",
       "    }\n",
       "\n",
       "    .dataframe thead th {\n",
       "        text-align: right;\n",
       "    }\n",
       "</style>\n",
       "<table border=\"1\" class=\"dataframe\">\n",
       "  <thead>\n",
       "    <tr style=\"text-align: right;\">\n",
       "      <th></th>\n",
       "      <th>Coolant temp</th>\n",
       "      <th>Fuel pressure</th>\n",
       "      <th>LOG(Engine rpm)</th>\n",
       "      <th>LOG(Lub oil pressure)</th>\n",
       "      <th>LOG(Coolant pressure)</th>\n",
       "      <th>lub oil temp</th>\n",
       "    </tr>\n",
       "  </thead>\n",
       "  <tbody>\n",
       "    <tr>\n",
       "      <th>22</th>\n",
       "      <td>0.151531</td>\n",
       "      <td>0.226702</td>\n",
       "      <td>-0.833181</td>\n",
       "      <td>0.630092</td>\n",
       "      <td>0.824422</td>\n",
       "      <td>0.891307</td>\n",
       "    </tr>\n",
       "    <tr>\n",
       "      <th>13</th>\n",
       "      <td>0.207256</td>\n",
       "      <td>0.427178</td>\n",
       "      <td>-0.343775</td>\n",
       "      <td>0.467497</td>\n",
       "      <td>0.579474</td>\n",
       "      <td>-0.430303</td>\n",
       "    </tr>\n",
       "    <tr>\n",
       "      <th>167</th>\n",
       "      <td>-0.035179</td>\n",
       "      <td>-0.555292</td>\n",
       "      <td>0.125013</td>\n",
       "      <td>0.452432</td>\n",
       "      <td>-0.451118</td>\n",
       "      <td>0.357374</td>\n",
       "    </tr>\n",
       "    <tr>\n",
       "      <th>110</th>\n",
       "      <td>0.885073</td>\n",
       "      <td>-0.747906</td>\n",
       "      <td>0.726721</td>\n",
       "      <td>0.404705</td>\n",
       "      <td>0.865740</td>\n",
       "      <td>-0.505224</td>\n",
       "    </tr>\n",
       "    <tr>\n",
       "      <th>160</th>\n",
       "      <td>0.927969</td>\n",
       "      <td>0.044799</td>\n",
       "      <td>0.430122</td>\n",
       "      <td>0.158480</td>\n",
       "      <td>0.314005</td>\n",
       "      <td>0.174249</td>\n",
       "    </tr>\n",
       "    <tr>\n",
       "      <th>197</th>\n",
       "      <td>0.139001</td>\n",
       "      <td>-0.308990</td>\n",
       "      <td>0.109317</td>\n",
       "      <td>-0.973335</td>\n",
       "      <td>-0.717331</td>\n",
       "      <td>0.987307</td>\n",
       "    </tr>\n",
       "    <tr>\n",
       "      <th>196</th>\n",
       "      <td>0.538044</td>\n",
       "      <td>0.534762</td>\n",
       "      <td>0.783982</td>\n",
       "      <td>-0.667502</td>\n",
       "      <td>-0.003361</td>\n",
       "      <td>0.209038</td>\n",
       "    </tr>\n",
       "    <tr>\n",
       "      <th>67</th>\n",
       "      <td>-0.139973</td>\n",
       "      <td>-0.365888</td>\n",
       "      <td>0.507028</td>\n",
       "      <td>-0.105248</td>\n",
       "      <td>0.534982</td>\n",
       "      <td>0.947880</td>\n",
       "    </tr>\n",
       "    <tr>\n",
       "      <th>195</th>\n",
       "      <td>0.172962</td>\n",
       "      <td>-0.287470</td>\n",
       "      <td>0.507028</td>\n",
       "      <td>-0.450261</td>\n",
       "      <td>-0.991773</td>\n",
       "      <td>0.520044</td>\n",
       "    </tr>\n",
       "    <tr>\n",
       "      <th>37</th>\n",
       "      <td>0.756924</td>\n",
       "      <td>-0.882167</td>\n",
       "      <td>0.190832</td>\n",
       "      <td>-0.745012</td>\n",
       "      <td>-0.346403</td>\n",
       "      <td>0.980518</td>\n",
       "    </tr>\n",
       "    <tr>\n",
       "      <th>69</th>\n",
       "      <td>-0.551401</td>\n",
       "      <td>-0.821469</td>\n",
       "      <td>-0.136397</td>\n",
       "      <td>0.829806</td>\n",
       "      <td>0.378189</td>\n",
       "      <td>-0.503598</td>\n",
       "    </tr>\n",
       "    <tr>\n",
       "      <th>61</th>\n",
       "      <td>-0.516411</td>\n",
       "      <td>-0.964902</td>\n",
       "      <td>-0.561428</td>\n",
       "      <td>-0.149167</td>\n",
       "      <td>-0.578419</td>\n",
       "      <td>-0.996871</td>\n",
       "    </tr>\n",
       "    <tr>\n",
       "      <th>193</th>\n",
       "      <td>0.514965</td>\n",
       "      <td>0.768525</td>\n",
       "      <td>0.710622</td>\n",
       "      <td>-0.611317</td>\n",
       "      <td>-0.868609</td>\n",
       "      <td>0.946245</td>\n",
       "    </tr>\n",
       "    <tr>\n",
       "      <th>91</th>\n",
       "      <td>0.027014</td>\n",
       "      <td>-0.017158</td>\n",
       "      <td>-0.774747</td>\n",
       "      <td>0.109200</td>\n",
       "      <td>-0.489426</td>\n",
       "      <td>0.386361</td>\n",
       "    </tr>\n",
       "    <tr>\n",
       "      <th>93</th>\n",
       "      <td>0.402057</td>\n",
       "      <td>-0.097079</td>\n",
       "      <td>0.085620</td>\n",
       "      <td>-0.415191</td>\n",
       "      <td>-0.163029</td>\n",
       "      <td>0.363089</td>\n",
       "    </tr>\n",
       "    <tr>\n",
       "      <th>68</th>\n",
       "      <td>0.371123</td>\n",
       "      <td>-0.090892</td>\n",
       "      <td>0.575293</td>\n",
       "      <td>0.878144</td>\n",
       "      <td>-0.394071</td>\n",
       "      <td>0.118756</td>\n",
       "    </tr>\n",
       "    <tr>\n",
       "      <th>177</th>\n",
       "      <td>-0.944324</td>\n",
       "      <td>0.812609</td>\n",
       "      <td>0.387339</td>\n",
       "      <td>0.682434</td>\n",
       "      <td>-0.160670</td>\n",
       "      <td>0.270396</td>\n",
       "    </tr>\n",
       "    <tr>\n",
       "      <th>187</th>\n",
       "      <td>0.358700</td>\n",
       "      <td>0.648622</td>\n",
       "      <td>-0.701965</td>\n",
       "      <td>0.781560</td>\n",
       "      <td>0.708553</td>\n",
       "      <td>-0.892704</td>\n",
       "    </tr>\n",
       "    <tr>\n",
       "      <th>129</th>\n",
       "      <td>0.549723</td>\n",
       "      <td>0.531656</td>\n",
       "      <td>-0.339212</td>\n",
       "      <td>-0.781927</td>\n",
       "      <td>-0.602702</td>\n",
       "      <td>0.800456</td>\n",
       "    </tr>\n",
       "    <tr>\n",
       "      <th>148</th>\n",
       "      <td>0.434019</td>\n",
       "      <td>0.139210</td>\n",
       "      <td>0.336653</td>\n",
       "      <td>-0.402422</td>\n",
       "      <td>0.691071</td>\n",
       "      <td>0.050123</td>\n",
       "    </tr>\n",
       "  </tbody>\n",
       "</table>\n",
       "</div>"
      ],
      "text/plain": [
       "     Coolant temp  Fuel pressure  LOG(Engine rpm)  LOG(Lub oil pressure)  \\\n",
       "22       0.151531       0.226702        -0.833181               0.630092   \n",
       "13       0.207256       0.427178        -0.343775               0.467497   \n",
       "167     -0.035179      -0.555292         0.125013               0.452432   \n",
       "110      0.885073      -0.747906         0.726721               0.404705   \n",
       "160      0.927969       0.044799         0.430122               0.158480   \n",
       "197      0.139001      -0.308990         0.109317              -0.973335   \n",
       "196      0.538044       0.534762         0.783982              -0.667502   \n",
       "67      -0.139973      -0.365888         0.507028              -0.105248   \n",
       "195      0.172962      -0.287470         0.507028              -0.450261   \n",
       "37       0.756924      -0.882167         0.190832              -0.745012   \n",
       "69      -0.551401      -0.821469        -0.136397               0.829806   \n",
       "61      -0.516411      -0.964902        -0.561428              -0.149167   \n",
       "193      0.514965       0.768525         0.710622              -0.611317   \n",
       "91       0.027014      -0.017158        -0.774747               0.109200   \n",
       "93       0.402057      -0.097079         0.085620              -0.415191   \n",
       "68       0.371123      -0.090892         0.575293               0.878144   \n",
       "177     -0.944324       0.812609         0.387339               0.682434   \n",
       "187      0.358700       0.648622        -0.701965               0.781560   \n",
       "129      0.549723       0.531656        -0.339212              -0.781927   \n",
       "148      0.434019       0.139210         0.336653              -0.402422   \n",
       "\n",
       "     LOG(Coolant pressure)  lub oil temp  \n",
       "22                0.824422      0.891307  \n",
       "13                0.579474     -0.430303  \n",
       "167              -0.451118      0.357374  \n",
       "110               0.865740     -0.505224  \n",
       "160               0.314005      0.174249  \n",
       "197              -0.717331      0.987307  \n",
       "196              -0.003361      0.209038  \n",
       "67                0.534982      0.947880  \n",
       "195              -0.991773      0.520044  \n",
       "37               -0.346403      0.980518  \n",
       "69                0.378189     -0.503598  \n",
       "61               -0.578419     -0.996871  \n",
       "193              -0.868609      0.946245  \n",
       "91               -0.489426      0.386361  \n",
       "93               -0.163029      0.363089  \n",
       "68               -0.394071      0.118756  \n",
       "177              -0.160670      0.270396  \n",
       "187               0.708553     -0.892704  \n",
       "129              -0.602702      0.800456  \n",
       "148               0.691071      0.050123  "
      ]
     },
     "execution_count": 7,
     "metadata": {},
     "output_type": "execute_result"
    }
   ],
   "source": [
    "Xtrain"
   ]
  },
  {
   "cell_type": "code",
   "execution_count": 8,
   "id": "1355f486-8eec-4010-84a7-56ecb0467934",
   "metadata": {
    "tags": []
   },
   "outputs": [
    {
     "data": {
      "text/plain": [
       "22     1\n",
       "13     0\n",
       "167    0\n",
       "110    1\n",
       "160    0\n",
       "197    1\n",
       "196    0\n",
       "67     1\n",
       "195    0\n",
       "37     1\n",
       "69     0\n",
       "61     0\n",
       "193    1\n",
       "91     1\n",
       "93     0\n",
       "68     0\n",
       "177    0\n",
       "187    1\n",
       "129    1\n",
       "148    1\n",
       "Name: Engine Condition, dtype: int64"
      ]
     },
     "execution_count": 8,
     "metadata": {},
     "output_type": "execute_result"
    }
   ],
   "source": [
    "ytrain"
   ]
  },
  {
   "cell_type": "markdown",
   "id": "f1777704-45d7-4696-9612-76e03764fc25",
   "metadata": {},
   "source": [
    "Define the Quantum Feature Map\n"
   ]
  },
  {
   "cell_type": "code",
   "execution_count": 9,
   "id": "83ad0030-c5d3-4daa-8aff-70f780686999",
   "metadata": {
    "tags": []
   },
   "outputs": [
    {
     "name": "stdout",
     "output_type": "stream",
     "text": [
      "Figure(371.107x535.111)\n",
      "Trainable parameters: θ, ['θ[0]']\n"
     ]
    },
    {
     "data": {
      "image/png": "[encoded data removed]",
      "text/plain": [
       "<Figure size 371.107x535.111 with 1 Axes>"
      ]
     },
     "execution_count": 9,
     "metadata": {},
     "output_type": "execute_result"
    }
   ],
   "source": [
    "from qiskit.circuit.library import PauliFeatureMap,ZFeatureMap\n",
    "from qiskit.visualization import circuit_drawer\n",
    "\n",
    "# Define the parameter vector\n",
    "training_params = ParameterVector(\"θ\", 1)\n",
    "\n",
    "# Define the quantum circuit with PauliFeatureMap\n",
    "fm0 = QuantumCircuit(6)\n",
    "for i in range(6):\n",
    "    fm0.rx(training_params[0], i)\n",
    "\n",
    "# Define the PauliFeatureMap\n",
    "\n",
    "\n",
    "# Create the feature map, composed of the two circuits\n",
    "# fm = fm0.compose(fm1)\n",
    "fm=ZZFeatureMap(6, entanglement='linear')\n",
    "# Print the circuit and trainable parameters\n",
    "print(circuit_drawer(fm, output='mpl'))\n",
    "print(f\"Trainable parameters: {training_params}\")\n",
    "fm.draw(output=\"mpl\")\n"
   ]
  },
  {
   "cell_type": "code",
   "execution_count": 10,
   "id": "5c468505-6ecd-49e4-81ab-7938a24d0e8f",
   "metadata": {
    "tags": []
   },
   "outputs": [
    {
     "name": "stdout",
     "output_type": "stream",
     "text": [
      "40\n"
     ]
    }
   ],
   "source": [
    "qc=ZZFeatureMap(6, entanglement='circular')\n",
    "print(transpile(qc,optimization_level=3).depth())"
   ]
  },
  {
   "cell_type": "code",
   "execution_count": 11,
   "id": "76e55a32-ed57-4918-848b-cd21cf2c9886",
   "metadata": {
    "tags": []
   },
   "outputs": [],
   "source": [
    "# Connecting with IBMQ\n",
    "from qiskit_ibm_runtime import QiskitRuntimeService, Sampler, Estimator, Session, Options\n",
    "# Loading your IBM Quantum account(s)\n",
    "service = QiskitRuntimeService(channel=\"ibm_quantum\")"
   ]
  },
  {
   "cell_type": "code",
   "execution_count": 12,
   "id": "abbf9289-cd3f-4452-9752-c26884f1bd35",
   "metadata": {
    "tags": []
   },
   "outputs": [
    {
     "data": {
      "text/plain": [
       "[<IBMBackend('ibmq_manila')>,\n",
       " <IBMBackend('ibmq_quito')>,\n",
       " <IBMBackend('simulator_extended_stabilizer')>,\n",
       " <IBMBackend('simulator_statevector')>,\n",
       " <IBMBackend('ibm_nairobi')>,\n",
       " <IBMBackend('ibm_lagos')>,\n",
       " <IBMBackend('ibm_perth')>,\n",
       " <IBMBackend('ibmq_jakarta')>,\n",
       " <IBMBackend('ibmq_qasm_simulator')>,\n",
       " <IBMBackend('ibmq_lima')>,\n",
       " <IBMBackend('ibmq_belem')>,\n",
       " <IBMBackend('simulator_mps')>,\n",
       " <IBMBackend('simulator_stabilizer')>]"
      ]
     },
     "execution_count": 12,
     "metadata": {},
     "output_type": "execute_result"
    }
   ],
   "source": [
    "\n",
    "service.backends()"
   ]
  },
  {
   "cell_type": "code",
   "execution_count": 13,
   "id": "50f06a18-5d62-49d2-b330-2886c4f01c11",
   "metadata": {
    "tags": []
   },
   "outputs": [],
   "source": [
    "# Use the IBM quantum backend\n",
    "backend = service.backend(\"ibmq_qasm_simulator\")\n"
   ]
  },
  {
   "cell_type": "code",
   "execution_count": null,
   "id": "90bf807c-b4bf-4ee5-8ddd-542c1aac9d07",
   "metadata": {
    "tags": []
   },
   "outputs": [],
   "source": []
  },
  {
   "cell_type": "code",
   "execution_count": null,
   "id": "d17906b0-8c7c-4803-93d9-4f910edf2efe",
   "metadata": {
    "tags": []
   },
   "outputs": [],
   "source": []
  },
  {
   "cell_type": "code",
   "execution_count": 14,
   "id": "298f9f81-6a12-401e-9a28-7e3c1a92333b",
   "metadata": {
    "tags": []
   },
   "outputs": [],
   "source": [
    "# with (service=service, backend=backend):\n",
    "#     sampler = Sampler()\n",
    "#     fidelity = ComputeUncompute(sampler=sampler)\n",
    "#     quantum_kernel = FidelityQuantumKernel(fidelity=fidelity, feature_map=fm)\n",
    "#     qsvc = QSVC(quantum_kernel=quantum_kernel)\n",
    "#     qsvc.fit(Xtrain, ytrain)"
   ]
  },
  {
   "cell_type": "code",
   "execution_count": null,
   "id": "841291c2-6277-44ed-b583-589d5bed96f8",
   "metadata": {
    "tags": []
   },
   "outputs": [],
   "source": [
    "from qiskit_aer.noise import NoiseModel\n",
    "\n",
    "noisy_backend = service.get_backend('ibmq_jakarta')\n",
    "backend_noise_model = NoiseModel.from_backend(noisy_backend)\n",
    "\n",
    "simulator = service.get_backend('ibmq_qasm_simulator')\n",
    "\n",
    "options = Options()\n",
    "options.resilience_level = 0\n",
    "options.optimization_level = 0\n",
    "options.simulator = {\n",
    "    \"noise_model\": backend_noise_model\n",
    "}\n",
    "with Session(service=service, backend=simulator) as session:\n",
    "    sampler = Sampler(session=session, options=options)\n",
    "    fidelity = ComputeUncompute(sampler=sampler)\n",
    "    quantum_kernel = FidelityQuantumKernel(fidelity=fidelity, feature_map=fm)\n",
    "    qsvc = QSVC(quantum_kernel=quantum_kernel)\n",
    "    qsvc.fit(Xtrain, ytrain)\n",
    "    # estimator = Estimator(session=session, options=options)\n",
    "    # job = estimator.run(circuits=qc, observables=O)\n",
    "    # print(job.result().values)"
   ]
  },
  {
   "cell_type": "code",
   "execution_count": null,
   "id": "38830fea-de0f-433f-929e-4cb2637f6ae9",
   "metadata": {},
   "outputs": [],
   "source": []
  },
  {
   "cell_type": "code",
   "execution_count": null,
   "id": "42678312-2601-4b57-9cc2-98f0c155d87a",
   "metadata": {},
   "outputs": [],
   "source": []
  },
  {
   "cell_type": "code",
   "execution_count": null,
   "id": "53ab2d46-16e4-412e-91f9-65476475c25b",
   "metadata": {},
   "outputs": [],
   "source": []
  },
  {
   "cell_type": "markdown",
   "id": "7e47d67d-8167-4091-93c5-e140ab5010e0",
   "metadata": {},
   "source": [
    "Fit and Test the Model"
   ]
  },
  {
   "cell_type": "code",
   "execution_count": null,
   "id": "81ea59a1-9fd5-41b5-a1f4-04d6734a763a",
   "metadata": {
    "tags": []
   },
   "outputs": [],
   "source": [
    "# # Use QSVC for classification\n",
    "# qsvc = QSVC(quantum_kernel=optimized_kernel)\n",
    "\n",
    "# # Fit the QSVC\n",
    "# qsvc.fit(Xtrain, ytrain)"
   ]
  },
  {
   "cell_type": "code",
   "execution_count": null,
   "id": "a192fe18-32d9-4ad5-bf7d-77e0a401d239",
   "metadata": {},
   "outputs": [],
   "source": [
    "Xtest"
   ]
  },
  {
   "cell_type": "code",
   "execution_count": null,
   "id": "afc3a3bb-e884-4a3f-a58c-bba9d0faa030",
   "metadata": {},
   "outputs": [],
   "source": [
    "Xtest.iloc[0:0+2,0:7]"
   ]
  },
  {
   "cell_type": "code",
   "execution_count": 1,
   "id": "bd563a20-ae9c-4687-80d7-40f860783ef4",
   "metadata": {},
   "outputs": [
    {
     "ename": "NameError",
     "evalue": "name 'qsvc' is not defined",
     "output_type": "error",
     "traceback": [
      "\u001b[1;31m---------------------------------------------------------------------------\u001b[0m",
      "\u001b[1;31mNameError\u001b[0m                                 Traceback (most recent call last)",
      "Cell \u001b[1;32mIn[1], line 20\u001b[0m\n\u001b[0;32m     17\u001b[0m start_time \u001b[38;5;241m=\u001b[39m time\u001b[38;5;241m.\u001b[39mtime()\n\u001b[0;32m     19\u001b[0m \u001b[38;5;66;03m# Simulate model prediction\u001b[39;00m\n\u001b[1;32m---> 20\u001b[0m ypred\u001b[38;5;241m=\u001b[39m\u001b[43mqsvc\u001b[49m\u001b[38;5;241m.\u001b[39mpredict(Xtest\u001b[38;5;241m.\u001b[39miloc[i:i\u001b[38;5;241m+\u001b[39m\u001b[38;5;241m1\u001b[39m,\u001b[38;5;241m0\u001b[39m:\u001b[38;5;241m7\u001b[39m])\n\u001b[0;32m     22\u001b[0m \u001b[38;5;66;03m# End time of the iteration\u001b[39;00m\n\u001b[0;32m     23\u001b[0m end_time \u001b[38;5;241m=\u001b[39m time\u001b[38;5;241m.\u001b[39mtime()\n",
      "\u001b[1;31mNameError\u001b[0m: name 'qsvc' is not defined"
     ]
    }
   ],
   "source": [
    "import time\n",
    "import matplotlib.pyplot as plt\n",
    "\n",
    "\n",
    "\n",
    "# Number of iterations\n",
    "num_iterations = 10\n",
    "\n",
    "# Arrays to store start and end times, and differences\n",
    "start_times = []\n",
    "end_times = []\n",
    "differences = []\n",
    "\n",
    "# Loop for 10 iterations\n",
    "for i in range(num_iterations):\n",
    "    # Start time of the iteration\n",
    "    start_time = time.time()\n",
    "\n",
    "    # Simulate model prediction\n",
    "    ypred=qsvc.predict(Xtest.iloc[i:i+1,0:7])\n",
    "\n",
    "    # End time of the iteration\n",
    "    end_time = time.time()\n",
    "\n",
    "    # Calculate time difference in milliseconds\n",
    "    time_difference_ms = (end_time - start_time) * 1000\n",
    "\n",
    "    # Append data to arrays\n",
    "    start_times.append(start_time)\n",
    "    end_times.append(end_time)\n",
    "    differences.append(time_difference_ms)\n",
    "\n",
    "# Plotting the bar graph\n",
    "plt.bar(range(num_iterations), differences)\n",
    "plt.xlabel('Iteration')\n",
    "plt.ylabel('Time Difference (ms)')\n",
    "plt.title('Time Difference for Each Iteration')\n",
    "plt.show()\n"
   ]
  },
  {
   "cell_type": "code",
   "execution_count": null,
   "id": "ff122dc8-649d-4500-a39b-771de1ef1bdb",
   "metadata": {
    "tags": []
   },
   "outputs": [],
   "source": [
    "\n",
    "\n",
    "# Predict the labels\n",
    "labels_test = qsvc.predict(Xtest)\n",
    "\n",
    "# Evalaute the test accuracy\n",
    "accuracy_test = metrics.balanced_accuracy_score(y_true=ytest, y_pred=labels_test)\n",
    "print(f\"accuracy test: {accuracy_test}\")"
   ]
  },
  {
   "cell_type": "code",
   "execution_count": null,
   "id": "78fc5271-9627-4dc1-ae44-1cd0bbf4e5b0",
   "metadata": {
    "tags": []
   },
   "outputs": [],
   "source": [
    "from sklearn.metrics import classification_report, confusion_matrix\n",
    "print(confusion_matrix(ytest,labels_test))\n",
    "print(classification_report(ytest,labels_test))"
   ]
  },
  {
   "cell_type": "markdown",
   "id": "1b1dd7ad-020a-4a06-8026-32a9a6d6e587",
   "metadata": {},
   "source": [
    "Visualize the Kernel Training Process"
   ]
  },
  {
   "cell_type": "code",
   "execution_count": null,
   "id": "ba39bd27-a0d9-42fc-871a-9260234d2aef",
   "metadata": {
    "tags": []
   },
   "outputs": [],
   "source": [
    "# plot_data = cb_qkt.get_callback_data()  # callback data\n",
    "# K = optimized_kernel.evaluate(Xtrain)  # kernel matrix evaluated on the training samples\n",
    "\n",
    "# plt.rcParams[\"font.size\"] = 20\n",
    "# fig, ax = plt.subplots(1, 2, figsize=(14, 5))\n",
    "# ax[0].plot([i + 1 for i in range(len(plot_data[0]))], np.array(plot_data[2]), c=\"k\", marker=\"o\")\n",
    "# ax[0].set_xlabel(\"Iterations\")\n",
    "# ax[0].set_ylabel(\"Loss\")\n",
    "# ax[1].imshow(K, cmap=cm.get_cmap(\"bwr\", 20))\n",
    "# fig.tight_layout()\n",
    "# plt.show()"
   ]
  },
  {
   "cell_type": "code",
   "execution_count": null,
   "id": "350302ae-7b98-44ad-be50-7f82bfbb8e88",
   "metadata": {},
   "outputs": [],
   "source": []
  }
 ],
 "metadata": {
  "kernelspec": {
   "display_name": "Python 3 (ipykernel)",
   "language": "python",
   "name": "python3"
  },
  "language_info": {
   "codemirror_mode": {
    "name": "ipython",
    "version": 3
   },
   "file_extension": ".py",
   "mimetype": "text/x-python",
   "name": "python",
   "nbconvert_exporter": "python",
   "pygments_lexer": "ipython3",
   "version": "3.10.9"
  },
  "widgets": {
   "application/vnd.jupyter.widget-state+json": {
    "state": {
     "030f1ab867fa4800bbe5daf7c7a445d8": {
      "model_module": "@jupyter-widgets/controls",
      "model_module_version": "2.0.0",
      "model_name": "HTMLModel",
      "state": {
       "layout": "IPY_MODEL_7d1e9399e6ae483d95b65e450f7c5ead",
       "style": "IPY_MODEL_a88fb4364d3444c9b2080273f7d6df07",
       "value": "<h5>Job ID</h5>"
      }
     },
     "04fe1fb845c746ffa9caa5f8378b4de4": {
      "model_module": "@jupyter-widgets/base",
      "model_module_version": "2.0.0",
      "model_name": "LayoutModel",
      "state": {}
     },
     "0b262e4cff384a8cb545df1ad2f072ca": {
      "model_module": "@jupyter-widgets/controls",
      "model_module_version": "2.0.0",
      "model_name": "HTMLStyleModel",
      "state": {
       "description_width": "",
       "font_size": null,
       "text_color": null
      }
     },
     "1d04ad88e7a545d1acc4a86e355ba6f4": {
      "model_module": "@jupyter-widgets/base",
      "model_module_version": "2.0.0",
      "model_name": "LayoutModel",
      "state": {
       "width": "95px"
      }
     },
     "29b26caecc154c6fb16cf40ac4c9f246": {
      "model_module": "@jupyter-widgets/controls",
      "model_module_version": "2.0.0",
      "model_name": "HTMLStyleModel",
      "state": {
       "description_width": "",
       "font_size": null,
       "text_color": null
      }
     },
     "2def47eb647e487f9f976ad336d2b886": {
      "model_module": "@jupyter-widgets/base",
      "model_module_version": "2.0.0",
      "model_name": "LayoutModel",
      "state": {
       "margin": "0px 0px 0px 37px",
       "width": "600px"
      }
     },
     "420c326d2cb14fabb5a5725711c8b2c1": {
      "model_module": "@jupyter-widgets/controls",
      "model_module_version": "2.0.0",
      "model_name": "HTMLStyleModel",
      "state": {
       "description_width": "",
       "font_size": null,
       "text_color": null
      }
     },
     "5d01a036d30149708b5c532ebb1b15af": {
      "model_module": "@jupyter-widgets/controls",
      "model_module_version": "2.0.0",
      "model_name": "HTMLModel",
      "state": {
       "layout": "IPY_MODEL_e4c13558c7c244daa27da4290ef116ba",
       "style": "IPY_MODEL_916365d37b0544b2b04de8b38adf5290",
       "value": "<h5>Queue</h5>"
      }
     },
     "7d1e9399e6ae483d95b65e450f7c5ead": {
      "model_module": "@jupyter-widgets/base",
      "model_module_version": "2.0.0",
      "model_name": "LayoutModel",
      "state": {
       "width": "190px"
      }
     },
     "7f10720e478f4a728eff5d6f83bdbbe1": {
      "model_module": "@jupyter-widgets/controls",
      "model_module_version": "2.0.0",
      "model_name": "HTMLModel",
      "state": {
       "layout": "IPY_MODEL_7f438f188df1418293e1bcc4e6a7cd36",
       "style": "IPY_MODEL_29b26caecc154c6fb16cf40ac4c9f246",
       "value": "<h5>Backend</h5>"
      }
     },
     "7f438f188df1418293e1bcc4e6a7cd36": {
      "model_module": "@jupyter-widgets/base",
      "model_module_version": "2.0.0",
      "model_name": "LayoutModel",
      "state": {
       "width": "145px"
      }
     },
     "8dffebcbf05e4b3381972516a04ef93c": {
      "model_module": "@jupyter-widgets/controls",
      "model_module_version": "2.0.0",
      "model_name": "GridBoxModel",
      "state": {
       "children": [
        "IPY_MODEL_c00b388970a54ceda4925348d586985e"
       ],
       "layout": "IPY_MODEL_cf75ac529eea42d7b748861b320f6042"
      }
     },
     "916365d37b0544b2b04de8b38adf5290": {
      "model_module": "@jupyter-widgets/controls",
      "model_module_version": "2.0.0",
      "model_name": "HTMLStyleModel",
      "state": {
       "description_width": "",
       "font_size": null,
       "text_color": null
      }
     },
     "918ee99d28e845279993781f48965503": {
      "model_module": "@jupyter-widgets/controls",
      "model_module_version": "2.0.0",
      "model_name": "HTMLModel",
      "state": {
       "layout": "IPY_MODEL_04fe1fb845c746ffa9caa5f8378b4de4",
       "style": "IPY_MODEL_0b262e4cff384a8cb545df1ad2f072ca",
       "value": "<h5>Message</h5>"
      }
     },
     "94230b98178f4ad8b887740a65bb1f4c": {
      "model_module": "@jupyter-widgets/controls",
      "model_module_version": "2.0.0",
      "model_name": "HBoxModel",
      "state": {
       "children": [
        "IPY_MODEL_030f1ab867fa4800bbe5daf7c7a445d8",
        "IPY_MODEL_7f10720e478f4a728eff5d6f83bdbbe1",
        "IPY_MODEL_f5fa93b8cead42b39a06c5ddda518f9c",
        "IPY_MODEL_5d01a036d30149708b5c532ebb1b15af",
        "IPY_MODEL_918ee99d28e845279993781f48965503"
       ],
       "layout": "IPY_MODEL_2def47eb647e487f9f976ad336d2b886"
      }
     },
     "a3a070bcf21442d6af96a7a881440808": {
      "model_module": "@jupyter-widgets/controls",
      "model_module_version": "2.0.0",
      "model_name": "HTMLModel",
      "state": {
       "layout": "IPY_MODEL_f917ec93c898442daf56b61d545024a7",
       "style": "IPY_MODEL_c8a996b2df594db6a7200eefa00c2e94",
       "value": "<p style='font-family: IBM Plex Sans, Arial, Helvetica, sans-serif; font-size: 20px; font-weight: medium;'>Circuit Properties</p>"
      }
     },
     "a88fb4364d3444c9b2080273f7d6df07": {
      "model_module": "@jupyter-widgets/controls",
      "model_module_version": "2.0.0",
      "model_name": "HTMLStyleModel",
      "state": {
       "description_width": "",
       "font_size": null,
       "text_color": null
      }
     },
     "b611b77208994533b2289ee8584b3d72": {
      "model_module": "@jupyter-widgets/base",
      "model_module_version": "2.0.0",
      "model_name": "LayoutModel",
      "state": {
       "grid_area": "right",
       "padding": "0px 0px 0px 0px",
       "width": "70px"
      }
     },
     "c00b388970a54ceda4925348d586985e": {
      "model_module": "@jupyter-widgets/controls",
      "model_module_version": "2.0.0",
      "model_name": "ButtonModel",
      "state": {
       "button_style": "primary",
       "description": "Clear",
       "layout": "IPY_MODEL_b611b77208994533b2289ee8584b3d72",
       "style": "IPY_MODEL_e8fcea2e3dcb400395e1c65737c48fb0",
       "tooltip": null
      }
     },
     "c8a996b2df594db6a7200eefa00c2e94": {
      "model_module": "@jupyter-widgets/controls",
      "model_module_version": "2.0.0",
      "model_name": "HTMLStyleModel",
      "state": {
       "description_width": "",
       "font_size": null,
       "text_color": null
      }
     },
     "cf75ac529eea42d7b748861b320f6042": {
      "model_module": "@jupyter-widgets/base",
      "model_module_version": "2.0.0",
      "model_name": "LayoutModel",
      "state": {
       "grid_template_areas": "\n                                       \". . . . right \"\n                                        ",
       "grid_template_columns": "20% 20% 20% 20% 20%",
       "width": "100%"
      }
     },
     "e4c13558c7c244daa27da4290ef116ba": {
      "model_module": "@jupyter-widgets/base",
      "model_module_version": "2.0.0",
      "model_name": "LayoutModel",
      "state": {
       "width": "70px"
      }
     },
     "e8fcea2e3dcb400395e1c65737c48fb0": {
      "model_module": "@jupyter-widgets/controls",
      "model_module_version": "2.0.0",
      "model_name": "ButtonStyleModel",
      "state": {
       "font_family": null,
       "font_size": null,
       "font_style": null,
       "font_variant": null,
       "font_weight": null,
       "text_color": null,
       "text_decoration": null
      }
     },
     "f5fa93b8cead42b39a06c5ddda518f9c": {
      "model_module": "@jupyter-widgets/controls",
      "model_module_version": "2.0.0",
      "model_name": "HTMLModel",
      "state": {
       "layout": "IPY_MODEL_1d04ad88e7a545d1acc4a86e355ba6f4",
       "style": "IPY_MODEL_420c326d2cb14fabb5a5725711c8b2c1",
       "value": "<h5>Status</h5>"
      }
     },
     "f917ec93c898442daf56b61d545024a7": {
      "model_module": "@jupyter-widgets/base",
      "model_module_version": "2.0.0",
      "model_name": "LayoutModel",
      "state": {
       "margin": "0px 0px 10px 0px"
      }
     }
    },
    "version_major": 2,
    "version_minor": 0
   }
  }
 },
 "nbformat": 4,
 "nbformat_minor": 5
}
