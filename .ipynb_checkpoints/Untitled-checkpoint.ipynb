{
 "cells": [
  {
   "cell_type": "code",
   "execution_count": 1,
   "id": "3f711dd1-d14e-4b30-9814-56c515fea732",
   "metadata": {},
   "outputs": [
    {
     "ename": "ModuleNotFoundError",
     "evalue": "No module named 'ibm_quantum_widgets'",
     "output_type": "error",
     "traceback": [
      "\u001b[1;31m---------------------------------------------------------------------------\u001b[0m",
      "\u001b[1;31mModuleNotFoundError\u001b[0m                       Traceback (most recent call last)",
      "Cell \u001b[1;32mIn[1], line 5\u001b[0m\n\u001b[0;32m      3\u001b[0m \u001b[38;5;28;01mfrom\u001b[39;00m \u001b[38;5;21;01mqiskit\u001b[39;00m\u001b[38;5;21;01m.\u001b[39;00m\u001b[38;5;21;01mtools\u001b[39;00m\u001b[38;5;21;01m.\u001b[39;00m\u001b[38;5;21;01mjupyter\u001b[39;00m \u001b[38;5;28;01mimport\u001b[39;00m \u001b[38;5;241m*\u001b[39m\n\u001b[0;32m      4\u001b[0m \u001b[38;5;28;01mfrom\u001b[39;00m \u001b[38;5;21;01mqiskit\u001b[39;00m\u001b[38;5;21;01m.\u001b[39;00m\u001b[38;5;21;01mvisualization\u001b[39;00m \u001b[38;5;28;01mimport\u001b[39;00m \u001b[38;5;241m*\u001b[39m\n\u001b[1;32m----> 5\u001b[0m \u001b[38;5;28;01mfrom\u001b[39;00m \u001b[38;5;21;01mibm_quantum_widgets\u001b[39;00m \u001b[38;5;28;01mimport\u001b[39;00m \u001b[38;5;241m*\u001b[39m\n\u001b[0;32m      7\u001b[0m \u001b[38;5;66;03m# qiskit-ibmq-provider has been deprecated.\u001b[39;00m\n\u001b[0;32m      8\u001b[0m \u001b[38;5;66;03m# Please see the Migration Guides in https://ibm.biz/provider_migration_guide for more detail.\u001b[39;00m\n\u001b[0;32m      9\u001b[0m \u001b[38;5;28;01mfrom\u001b[39;00m \u001b[38;5;21;01mqiskit_ibm_runtime\u001b[39;00m \u001b[38;5;28;01mimport\u001b[39;00m QiskitRuntimeService, Sampler, Estimator, Session, Options\n",
      "\u001b[1;31mModuleNotFoundError\u001b[0m: No module named 'ibm_quantum_widgets'"
     ]
    }
   ],
   "source": [
    "# Importing standard Qiskit libraries\n",
    "from qiskit import *\n",
    "from qiskit.tools.jupyter import *\n",
    "from qiskit.visualization import *\n",
    "from ibm_quantum_widgets import *\n",
    "\n",
    "# qiskit-ibmq-provider has been deprecated.\n",
    "# Please see the Migration Guides in https://ibm.biz/provider_migration_guide for more detail.\n",
    "from qiskit_ibm_runtime import QiskitRuntimeService, Sampler, Estimator, Session, Options\n",
    "\n",
    "\n",
    "\n",
    "# Invoke a primitive. For more details see https://qiskit.org/documentation/partners/qiskit_ibm_runtime/tutorials.html\n",
    "# result = Sampler(\"ibmq_qasm_simulator\").run(circuits).result()"
   ]
  },
  {
   "cell_type": "code",
   "execution_count": 2,
   "id": "03a20cc3",
   "metadata": {},
   "outputs": [
    {
     "data": {
      "image/png": "[encoded data removed]",
      "text/plain": [
       "<Figure size 472.747x535.111 with 1 Axes>"
      ]
     },
     "execution_count": 2,
     "metadata": {},
     "output_type": "execute_result"
    }
   ],
   "source": [
    "qr=QuantumRegister(4)\n",
    "c1=ClassicalRegister(2)\n",
    "c2=ClassicalRegister(2)\n",
    "qc=QuantumCircuit(qr,c1,c2)\n",
    "qc.measure(qr[0:2],c1)\n",
    "qc.measure(qr[2:4],c2)\n",
    "qc.draw(output=\"mpl\")"
   ]
  },
  {
   "cell_type": "code",
   "execution_count": 4,
   "id": "edbfddf1",
   "metadata": {},
   "outputs": [
    {
     "data": {
      "image/png": "[encoded data removed]",
      "text/plain": [
       "<Figure size 329.554x200.667 with 1 Axes>"
      ]
     },
     "execution_count": 4,
     "metadata": {},
     "output_type": "execute_result"
    }
   ],
   "source": [
    "qc=QuantumCircuit(1)\n",
    "qc.measure_all()\n",
    "qc.draw(output=\"mpl\")"
   ]
  },
  {
   "cell_type": "code",
   "execution_count": 5,
   "id": "03535927",
   "metadata": {},
   "outputs": [
    {
     "data": {
      "image/png": "[encoded data removed]",
      "text/plain": [
       "<Figure size 203.683x200.667 with 1 Axes>"
      ]
     },
     "execution_count": 5,
     "metadata": {},
     "output_type": "execute_result"
    }
   ],
   "source": [
    "qc=QuantumCircuit(2)\n",
    "theta=2*3.042/3\n",
    "qc.crz(theta,0,1)\n",
    "qc.draw(output=\"mpl\")"
   ]
  },
  {
   "cell_type": "code",
   "execution_count": 6,
   "id": "e4d0fad5",
   "metadata": {},
   "outputs": [
    {
     "data": {
      "text/plain": [
       "matplotlib.figure.Figure"
      ]
     },
     "execution_count": 6,
     "metadata": {},
     "output_type": "execute_result"
    }
   ],
   "source": [
    "type(qc.draw(output=\"mpl\"))"
   ]
  },
  {
   "cell_type": "code",
   "execution_count": 7,
   "id": "ad808d31",
   "metadata": {},
   "outputs": [],
   "source": [
    "backend=BasicAer.get_backend('qasm_simulator')"
   ]
  },
  {
   "cell_type": "code",
   "execution_count": 9,
   "id": "790ec0b6",
   "metadata": {},
   "outputs": [
    {
     "name": "stderr",
     "output_type": "stream",
     "text": [
      "No classical registers in circuit \"circuit-117\", counts will be empty.\n"
     ]
    },
    {
     "data": {
      "text/plain": [
       "<QasmSimulatorPy('qasm_simulator')>"
      ]
     },
     "execution_count": 9,
     "metadata": {},
     "output_type": "execute_result"
    }
   ],
   "source": [
    "job=execute(qc,backend)\n",
    "job.backend()"
   ]
  },
  {
   "cell_type": "code",
   "execution_count": 45,
   "id": "5d52c2c0",
   "metadata": {},
   "outputs": [
    {
     "data": {
      "text/html": [
       "<pre style=\"word-wrap: normal;white-space: pre;background: #fff0;line-height: 1.1;font-family: &quot;Courier New&quot;,Courier,monospace\">     ┌─┐   \n",
       "q_0: ┤M├───\n",
       "     └╥┘┌─┐\n",
       "q_1: ─╫─┤M├\n",
       "      ║ └╥┘\n",
       "c: 2/═╩══╩═\n",
       "      0  1 </pre>"
      ],
      "text/plain": [
       "     ┌─┐   \n",
       "q_0: ┤M├───\n",
       "     └╥┘┌─┐\n",
       "q_1: ─╫─┤M├\n",
       "      ║ └╥┘\n",
       "c: 2/═╩══╩═\n",
       "      0  1 "
      ]
     },
     "execution_count": 45,
     "metadata": {},
     "output_type": "execute_result"
    }
   ],
   "source": [
    "bell=QuantumCircuit(2)\n",
    "bell.h(0)\n",
    "bell.h(1)\n",
    "mes=QuantumCircuit(2,2)\n",
    "mes.measure([0,1],[0,1])\n",
    "mes.draw()"
   ]
  },
  {
   "cell_type": "code",
   "execution_count": 46,
   "id": "1f03df4a",
   "metadata": {},
   "outputs": [
    {
     "data": {
      "text/html": [
       "<pre style=\"word-wrap: normal;white-space: pre;background: #fff0;line-height: 1.1;font-family: &quot;Courier New&quot;,Courier,monospace\">     ┌───┐ ░ \n",
       "q_0: ┤ H ├─░─\n",
       "     ├───┤ ░ \n",
       "q_1: ┤ H ├─░─\n",
       "     └───┘ ░ </pre>"
      ],
      "text/plain": [
       "     ┌───┐ ░ \n",
       "q_0: ┤ H ├─░─\n",
       "     ├───┤ ░ \n",
       "q_1: ┤ H ├─░─\n",
       "     └───┘ ░ "
      ]
     },
     "execution_count": 46,
     "metadata": {},
     "output_type": "execute_result"
    }
   ],
   "source": [
    "bell.barrier()\n",
    "bell.draw()"
   ]
  },
  {
   "cell_type": "code",
   "execution_count": 48,
   "id": "1c65adf7",
   "metadata": {},
   "outputs": [
    {
     "data": {
      "text/html": [
       "<pre style=\"word-wrap: normal;white-space: pre;background: #fff0;line-height: 1.1;font-family: &quot;Courier New&quot;,Courier,monospace\">     ┌───┐ ░ ┌─┐   \n",
       "q_0: ┤ H ├─░─┤M├───\n",
       "     ├───┤ ░ └╥┘┌─┐\n",
       "q_1: ┤ H ├─░──╫─┤M├\n",
       "     └───┘ ░  ║ └╥┘\n",
       "c: 2/═════════╩══╩═\n",
       "              0  1 </pre>"
      ],
      "text/plain": [
       "     ┌───┐ ░ ┌─┐   \n",
       "q_0: ┤ H ├─░─┤M├───\n",
       "     ├───┤ ░ └╥┘┌─┐\n",
       "q_1: ┤ H ├─░──╫─┤M├\n",
       "     └───┘ ░  ║ └╥┘\n",
       "c: 2/═════════╩══╩═\n",
       "              0  1 "
      ]
     },
     "execution_count": 48,
     "metadata": {},
     "output_type": "execute_result"
    }
   ],
   "source": [
    "qcn=bell.compose(mes)\n",
    "qcn.draw()"
   ]
  },
  {
   "cell_type": "code",
   "execution_count": 50,
   "id": "5c40ac20",
   "metadata": {},
   "outputs": [
    {
     "data": {
      "text/plain": [
       "array([[ 0. +0.j,  0. +0.j,  0.7+0.j,  0.7-0.j],\n",
       "       [ 0. +0.j,  0. +0.j,  0.7+0.j, -0.7+0.j],\n",
       "       [ 0.7+0.j,  0.7-0.j,  0. +0.j,  0. +0.j],\n",
       "       [ 0.7+0.j, -0.7+0.j,  0. +0.j,  0. +0.j]])"
      ]
     },
     "execution_count": 50,
     "metadata": {},
     "output_type": "execute_result"
    }
   ],
   "source": [
    "qreg_q = QuantumRegister(2, 'q')\n",
    "\n",
    "circuit = QuantumCircuit(qreg_q)\n",
    "\n",
    "circuit.h(qreg_q[0])\n",
    "circuit.x(qreg_q[1])\n",
    "backend=BasicAer.get_backend('unitary_simulator')\n",
    "execute(circuit,backend).result().get_unitary(circuit,1)"
   ]
  },
  {
   "cell_type": "code",
   "execution_count": 52,
   "id": "eba22f61",
   "metadata": {},
   "outputs": [],
   "source": [
    "figure = plot_bloch_multivector([3.142,3.142])\n",
    "figure.savefig('sphere.png')"
   ]
  },
  {
   "cell_type": "code",
   "execution_count": null,
   "id": "16dede0d",
   "metadata": {},
   "outputs": [],
   "source": []
  },
  {
   "cell_type": "code",
   "execution_count": null,
   "id": "5732cd8d",
   "metadata": {},
   "outputs": [],
   "source": []
  },
  {
   "cell_type": "code",
   "execution_count": null,
   "id": "a960eab7",
   "metadata": {},
   "outputs": [],
   "source": []
  },
  {
   "cell_type": "code",
   "execution_count": null,
   "id": "7e09852c",
   "metadata": {},
   "outputs": [],
   "source": []
  }
 ],
 "metadata": {
  "kernelspec": {
   "display_name": "Python 3 (ipykernel)",
   "language": "python",
   "name": "python3"
  },
  "language_info": {
   "codemirror_mode": {
    "name": "ipython",
    "version": 3
   },
   "file_extension": ".py",
   "mimetype": "text/x-python",
   "name": "python",
   "nbconvert_exporter": "python",
   "pygments_lexer": "ipython3",
   "version": "3.10.9"
  }
 },
 "nbformat": 4,
 "nbformat_minor": 5
}
