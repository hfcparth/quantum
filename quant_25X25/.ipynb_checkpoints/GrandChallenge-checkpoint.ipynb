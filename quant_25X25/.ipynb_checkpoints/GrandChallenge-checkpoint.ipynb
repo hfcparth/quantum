{
 "cells": [
  {
   "cell_type": "markdown",
   "id": "a2fb2cd8-f2a6-4202-a212-a0d548998d80",
   "metadata": {},
   "source": [
    "Library Import"
   ]
  },
  {
   "cell_type": "code",
   "execution_count": 1,
   "id": "118a4844-8d3e-4fb9-8aa1-db5c51e2090f",
   "metadata": {
    "tags": []
   },
   "outputs": [],
   "source": [
    "# Importing standard Qiskit libraries\n",
    "from qiskit import QuantumCircuit, transpile,BasicAer\n",
    "from qiskit.tools.jupyter import *\n",
    "from qiskit.visualization import *\n",
    "from ibm_quantum_widgets import *\n",
    "from qiskit_aer import AerSimulator\n",
    "from qiskit.algorithms.optimizers import SPSA\n",
    "import pandas as pd\n",
    "from qiskit.circuit import ParameterVector\n",
    "from qiskit.visualization import circuit_drawer\n",
    "\n",
    "\n",
    "# qiskit-ibmq-provider has been deprecated.\n",
    "# Please see the Migration Guides in https://ibm.biz/provider_migration_guide for more detail.\n",
    "from qiskit_ibm_runtime import QiskitRuntimeService, Sampler, Estimator, Session, Options\n",
    "\n",
    "# Loading your IBM Quantum account(s)\n",
    "service = QiskitRuntimeService(channel=\"ibm_quantum\")\n",
    "from pylab import cm\n",
    "from sklearn import metrics\n",
    "import matplotlib.pyplot as plt\n",
    "import numpy as np\n",
    "from qiskit.circuit.library import ZZFeatureMap\n",
    "from qiskit_machine_learning.kernels import TrainableFidelityQuantumKernel\n",
    "from qiskit_machine_learning.kernels.algorithms import QuantumKernelTrainer\n",
    "from qiskit_machine_learning.algorithms import QSVC\n",
    "# Invoke a primitive inside a session. For more details see https://qiskit.org/documentation/partners/qiskit_ibm_runtime/tutorials.html\n",
    "# with Session(backend=service.backend(\"ibmq_qasm_simulator\")):\n",
    "#     result = Sampler().run(circuits).result()"
   ]
  },
  {
   "cell_type": "code",
   "execution_count": 2,
   "id": "874ffdc8-8f3e-4943-ba2f-77174ca80104",
   "metadata": {
    "tags": []
   },
   "outputs": [],
   "source": [
    "class QKTCallback:\n",
    "    \"\"\"Callback wrapper class.\"\"\"\n",
    "\n",
    "    def __init__(self) -> None:\n",
    "        self._data = [[] for i in range(5)]\n",
    "\n",
    "    def callback(self, x0, x1=None, x2=None, x3=None, x4=None):\n",
    "        \"\"\"\n",
    "        Args:\n",
    "            x0: number of function evaluations\n",
    "            x1: the parameters\n",
    "            x2: the function value\n",
    "            x3: the stepsize\n",
    "            x4: whether the step was accepted\n",
    "        \"\"\"\n",
    "        self._data[0].append(x0)\n",
    "        self._data[1].append(x1)\n",
    "        self._data[2].append(x2)\n",
    "        self._data[3].append(x3)\n",
    "        self._data[4].append(x4)\n",
    "\n",
    "    def get_callback_data(self):\n",
    "        return self._data\n",
    "\n",
    "    def clear_callback_data(self):\n",
    "        self._data = [[] for i in range(5)]"
   ]
  },
  {
   "cell_type": "markdown",
   "id": "1070377f-5f5c-4afb-a76e-68785178fc70",
   "metadata": {},
   "source": [
    "Preparing the Dataset"
   ]
  },
  {
   "cell_type": "code",
   "execution_count": 3,
   "id": "1f0f5e53-9205-4225-aa88-c5d3a8afe3e9",
   "metadata": {
    "tags": []
   },
   "outputs": [
    {
     "name": "stdout",
     "output_type": "stream",
     "text": [
      "Traceback \u001b[1;36m(most recent call last)\u001b[0m:\n",
      "\u001b[1;36m  Cell \u001b[1;32mIn[3], line 7\u001b[1;36m\n",
      "\u001b[1;33m    Xtrain,_ , ytrain, _ = train_test_split(Xtrain, ytrain,stratify=ytrain, test_size=0.5)\u001b[1;36m\n",
      "\u001b[1;31mNameError\u001b[0m\u001b[1;31m:\u001b[0m name 'train_test_split' is not defined\n",
      "\n",
      "Use %tb to get the full traceback.\n"
     ]
    },
    {
     "data": {
      "text/html": [
       "\n",
       "<style>\n",
       ".button {\n",
       "  border: none;\n",
       "  color: white;\n",
       "  padding: 4px 8px;\n",
       "  text-align: center;\n",
       "  text-decoration: none;\n",
       "  display: inline-block;\n",
       "  font-size: 12px;\n",
       "  margin: 4px 2px;\n",
       "  transition-duration: 0.2s;\n",
       "  cursor: pointer;\n",
       "}\n",
       ".iqx-button {\n",
       "  background-color: #0f62fe; \n",
       "  color: white; \n",
       "}\n",
       ".iqx-button:hover {\n",
       "  background-color: #0043ce;\n",
       "  color: white;\n",
       "}\n",
       "</style>\n",
       "<a href=\"https://stackoverflow.com/search?q=NameError: name 'train_test_split' is not defined\" target='_blank'><button class='button iqx-button'>Search for solution online</button></a>\n"
      ],
      "text/plain": [
       "<IPython.core.display.HTML object>"
      ]
     },
     "metadata": {},
     "output_type": "display_data"
    }
   ],
   "source": [
    "df = pd.read_csv(r'prefinaloutput.csv')\n",
    "ytrain= df['isFraud']\n",
    "Xtrain= df.drop(['isFraud'],axis=1)\n",
    "Xtrain\n",
    "\n",
    "#To reduce training dataset size\n",
    "Xtrain,_ , ytrain, _ = train_test_split(Xtrain, ytrain,stratify=ytrain, test_size=0.5)"
   ]
  },
  {
   "cell_type": "code",
   "execution_count": 5,
   "id": "f47e9816-4f24-47a6-8274-694f64e79983",
   "metadata": {
    "tags": []
   },
   "outputs": [
    {
     "data": {
      "text/plain": [
       "0      1\n",
       "1      1\n",
       "2      1\n",
       "3      1\n",
       "4      1\n",
       "      ..\n",
       "494    0\n",
       "495    0\n",
       "496    0\n",
       "497    0\n",
       "498    0\n",
       "Name: isFraud, Length: 499, dtype: int64"
      ]
     },
     "execution_count": 5,
     "metadata": {},
     "output_type": "execute_result"
    }
   ],
   "source": [
    "dft = pd.read_csv(r'testfinal.csv')\n",
    "ytest= dft['isFraud']\n",
    "Xtest= dft.drop(['isFraud'],axis=1)\n",
    "ytest"
   ]
  },
  {
   "cell_type": "markdown",
   "id": "f1777704-45d7-4696-9612-76e03764fc25",
   "metadata": {},
   "source": [
    "Define the Quantum Feature Map\n"
   ]
  },
  {
   "cell_type": "code",
   "execution_count": 6,
   "id": "83ad0030-c5d3-4daa-8aff-70f780686999",
   "metadata": {
    "tags": []
   },
   "outputs": [
    {
     "name": "stdout",
     "output_type": "stream",
     "text": [
      "      ┌──────────┐»\n",
      " q_0: ┤ Ry(θ[0]) ├»\n",
      "      ├──────────┤»\n",
      " q_1: ┤ Ry(θ[0]) ├»\n",
      "      ├──────────┤»\n",
      " q_2: ┤ Ry(θ[0]) ├»\n",
      "      ├──────────┤»\n",
      " q_3: ┤ Ry(θ[0]) ├»\n",
      "      ├──────────┤»\n",
      " q_4: ┤ Ry(θ[0]) ├»\n",
      "      ├──────────┤»\n",
      " q_5: ┤ Ry(θ[0]) ├»\n",
      "      ├──────────┤»\n",
      " q_6: ┤ Ry(θ[0]) ├»\n",
      "      ├──────────┤»\n",
      " q_7: ┤ Ry(θ[0]) ├»\n",
      "      ├──────────┤»\n",
      " q_8: ┤ Ry(θ[0]) ├»\n",
      "      ├──────────┤»\n",
      " q_9: ┤ Ry(θ[0]) ├»\n",
      "      ├──────────┤»\n",
      "q_10: ┤ Ry(θ[0]) ├»\n",
      "      ├──────────┤»\n",
      "q_11: ┤ Ry(θ[0]) ├»\n",
      "      ├──────────┤»\n",
      "q_12: ┤ Ry(θ[0]) ├»\n",
      "      ├──────────┤»\n",
      "q_13: ┤ Ry(θ[0]) ├»\n",
      "      ├──────────┤»\n",
      "q_14: ┤ Ry(θ[0]) ├»\n",
      "      ├──────────┤»\n",
      "q_15: ┤ Ry(θ[0]) ├»\n",
      "      ├──────────┤»\n",
      "q_16: ┤ Ry(θ[0]) ├»\n",
      "      └──────────┘»\n",
      "«      ┌─────────────────────────────────────────────────────────────────────────────────────────────────────────────┐\n",
      "« q_0: ┤0                                                                                                            ├\n",
      "«      │                                                                                                             │\n",
      "« q_1: ┤1                                                                                                            ├\n",
      "«      │                                                                                                             │\n",
      "« q_2: ┤2                                                                                                            ├\n",
      "«      │                                                                                                             │\n",
      "« q_3: ┤3                                                                                                            ├\n",
      "«      │                                                                                                             │\n",
      "« q_4: ┤4                                                                                                            ├\n",
      "«      │                                                                                                             │\n",
      "« q_5: ┤5                                                                                                            ├\n",
      "«      │                                                                                                             │\n",
      "« q_6: ┤6                                                                                                            ├\n",
      "«      │                                                                                                             │\n",
      "« q_7: ┤7                                                                                                            ├\n",
      "«      │                                                                                                             │\n",
      "« q_8: ┤8  ZZFeatureMap(x[0],x[1],x[2],x[3],x[4],x[5],x[6],x[7],x[8],x[9],x[10],x[11],x[12],x[13],x[14],x[15],x[16]) ├\n",
      "«      │                                                                                                             │\n",
      "« q_9: ┤9                                                                                                            ├\n",
      "«      │                                                                                                             │\n",
      "«q_10: ┤10                                                                                                           ├\n",
      "«      │                                                                                                             │\n",
      "«q_11: ┤11                                                                                                           ├\n",
      "«      │                                                                                                             │\n",
      "«q_12: ┤12                                                                                                           ├\n",
      "«      │                                                                                                             │\n",
      "«q_13: ┤13                                                                                                           ├\n",
      "«      │                                                                                                             │\n",
      "«q_14: ┤14                                                                                                           ├\n",
      "«      │                                                                                                             │\n",
      "«q_15: ┤15                                                                                                           ├\n",
      "«      │                                                                                                             │\n",
      "«q_16: ┤16                                                                                                           ├\n",
      "«      └─────────────────────────────────────────────────────────────────────────────────────────────────────────────┘\n",
      "Trainable parameters: θ, ['θ[0]']\n"
     ]
    }
   ],
   "source": [
    "training_params = ParameterVector(\"θ\", 1)\n",
    "fm0 = QuantumCircuit(17)\n",
    "for i in range(17):\n",
    "    fm0.ry(training_params[0], i)\n",
    "\n",
    "\n",
    "# Use ZZFeatureMap to represent input data\n",
    "fm1 = ZZFeatureMap(17,entanglement='linear')\n",
    "\n",
    "# Create the feature map, composed of our two circuits\n",
    "fm = fm0.compose(fm1)\n",
    "\n",
    "print(circuit_drawer(fm, output='text'))\n",
    "print(f\"Trainable parameters: {training_params}\")"
   ]
  },
  {
   "cell_type": "code",
   "execution_count": 8,
   "id": "90bf807c-b4bf-4ee5-8ddd-542c1aac9d07",
   "metadata": {},
   "outputs": [],
   "source": [
    "# Instantiate quantum kernel\n",
    "quant_kernel = TrainableFidelityQuantumKernel(feature_map=fm, training_parameters=training_params)\n",
    "\n",
    "# Set up the optimizer\n",
    "cb_qkt = QKTCallback()\n",
    "spsa_opt = SPSA(maxiter=10, callback=cb_qkt.callback, learning_rate=0.05, perturbation=0.05)\n",
    "\n",
    "# Instantiate a quantum kernel trainer.\n",
    "qkt = QuantumKernelTrainer(\n",
    "    quantum_kernel=quant_kernel, loss=\"svc_loss\", optimizer=spsa_opt, initial_point=[np.pi / 2]\n",
    ")"
   ]
  },
  {
   "cell_type": "code",
   "execution_count": null,
   "id": "d17906b0-8c7c-4803-93d9-4f910edf2efe",
   "metadata": {
    "tags": []
   },
   "outputs": [],
   "source": [
    "# Train the kernel using QKT directly\n",
    "qka_results = qkt.fit(Xtrain, ytrain)\n",
    "optimized_kernel = qka_results.quantum_kernel\n",
    "print(qka_results)"
   ]
  },
  {
   "cell_type": "markdown",
   "id": "7e47d67d-8167-4091-93c5-e140ab5010e0",
   "metadata": {},
   "source": [
    "Fit and Test the Model"
   ]
  },
  {
   "cell_type": "code",
   "execution_count": null,
   "id": "ff122dc8-649d-4500-a39b-771de1ef1bdb",
   "metadata": {
    "tags": []
   },
   "outputs": [],
   "source": [
    "# Use QSVC for classification\n",
    "qsvc = QSVC(quantum_kernel=optimized_kernel)\n",
    "\n",
    "# Fit the QSVC\n",
    "qsvc.fit(Xtrain, ytrain)\n",
    "\n",
    "# Predict the labels\n",
    "labels_test = qsvc.predict(Xtest)\n",
    "\n",
    "# Evalaute the test accuracy\n",
    "accuracy_test = metrics.balanced_accuracy_score(y_true=ytest, y_pred=labels_test)\n",
    "print(f\"accuracy test: {accuracy_test}\")"
   ]
  },
  {
   "cell_type": "markdown",
   "id": "1b1dd7ad-020a-4a06-8026-32a9a6d6e587",
   "metadata": {},
   "source": [
    "Visualize the Kernel Training Process"
   ]
  },
  {
   "cell_type": "code",
   "execution_count": null,
   "id": "ba39bd27-a0d9-42fc-871a-9260234d2aef",
   "metadata": {},
   "outputs": [],
   "source": [
    "plot_data = cb_qkt.get_callback_data()  # callback data\n",
    "K = optimized_kernel.evaluate(X_train)  # kernel matrix evaluated on the training samples\n",
    "\n",
    "plt.rcParams[\"font.size\"] = 20\n",
    "fig, ax = plt.subplots(1, 2, figsize=(14, 5))\n",
    "ax[0].plot([i + 1 for i in range(len(plot_data[0]))], np.array(plot_data[2]), c=\"k\", marker=\"o\")\n",
    "ax[0].set_xlabel(\"Iterations\")\n",
    "ax[0].set_ylabel(\"Loss\")\n",
    "ax[1].imshow(K, cmap=cm.get_cmap(\"bwr\", 20))\n",
    "fig.tight_layout()\n",
    "plt.show()"
   ]
  }
 ],
 "metadata": {
  "kernelspec": {
   "display_name": "Python 3 (ipykernel)",
   "language": "python",
   "name": "python3"
  },
  "language_info": {
   "codemirror_mode": {
    "name": "ipython",
    "version": 3
   },
   "file_extension": ".py",
   "mimetype": "text/x-python",
   "name": "python",
   "nbconvert_exporter": "python",
   "pygments_lexer": "ipython3",
   "version": "3.10.8"
  },
  "widgets": {
   "application/vnd.jupyter.widget-state+json": {
    "state": {
     "07271b85ebf14b79b72e251bef05ea61": {
      "model_module": "@jupyter-widgets/controls",
      "model_module_version": "2.0.0",
      "model_name": "HTMLStyleModel",
      "state": {
       "description_width": "",
       "font_size": null,
       "text_color": null
      }
     },
     "1136ac2cd0dc4c1fb2bcc111b98c9501": {
      "model_module": "@jupyter-widgets/base",
      "model_module_version": "2.0.0",
      "model_name": "LayoutModel",
      "state": {
       "margin": "0px 0px 10px 0px"
      }
     },
     "254c2227e05946209a0aa09c08d89731": {
      "model_module": "@jupyter-widgets/controls",
      "model_module_version": "2.0.0",
      "model_name": "HBoxModel",
      "state": {
       "children": [
        "IPY_MODEL_8f6d56e43b834e1bb2373026a9199fb8",
        "IPY_MODEL_acb80cd9d0d5499bab807e2fc1a8d4ae",
        "IPY_MODEL_f3c85a517294453782c3cffe1141dc05",
        "IPY_MODEL_c6c2ccad4fc241158bc35714f51a145e",
        "IPY_MODEL_7ae00285484d41c3af3960204010e06d"
       ],
       "layout": "IPY_MODEL_68e96c7442a0465cb2cce384049eeeae"
      }
     },
     "465c203201854a55910a038805643466": {
      "model_module": "@jupyter-widgets/base",
      "model_module_version": "2.0.0",
      "model_name": "LayoutModel",
      "state": {}
     },
     "4872c1241eb542a99bf39e80d5305f47": {
      "model_module": "@jupyter-widgets/base",
      "model_module_version": "2.0.0",
      "model_name": "LayoutModel",
      "state": {
       "width": "70px"
      }
     },
     "4b1d7f7c855f472cbd6bcc1109110b6e": {
      "model_module": "@jupyter-widgets/controls",
      "model_module_version": "2.0.0",
      "model_name": "GridBoxModel",
      "state": {
       "children": [
        "IPY_MODEL_f78aab6c44664d259240c30394ae0b5a"
       ],
       "layout": "IPY_MODEL_702f29b0b65e4ebe90b2a25e21f38970"
      }
     },
     "521e7869d5ca4eaca549100fdab23b47": {
      "model_module": "@jupyter-widgets/controls",
      "model_module_version": "2.0.0",
      "model_name": "HTMLStyleModel",
      "state": {
       "description_width": "",
       "font_size": null,
       "text_color": null
      }
     },
     "53a9d68e347c498a9cd543745a020148": {
      "model_module": "@jupyter-widgets/base",
      "model_module_version": "2.0.0",
      "model_name": "LayoutModel",
      "state": {
       "grid_area": "right",
       "padding": "0px 0px 0px 0px",
       "width": "70px"
      }
     },
     "68514b7b052c4e8fae5651dbe436c724": {
      "model_module": "@jupyter-widgets/controls",
      "model_module_version": "2.0.0",
      "model_name": "HTMLModel",
      "state": {
       "layout": "IPY_MODEL_1136ac2cd0dc4c1fb2bcc111b98c9501",
       "style": "IPY_MODEL_a79404bb6943413c9cc4e30e3073a527",
       "value": "<p style='font-family: IBM Plex Sans, Arial, Helvetica, sans-serif; font-size: 20px; font-weight: medium;'>Circuit Properties</p>"
      }
     },
     "68e96c7442a0465cb2cce384049eeeae": {
      "model_module": "@jupyter-widgets/base",
      "model_module_version": "2.0.0",
      "model_name": "LayoutModel",
      "state": {
       "margin": "0px 0px 0px 37px",
       "width": "600px"
      }
     },
     "6e7cc325cd7841fc895b7b49c7d0827b": {
      "model_module": "@jupyter-widgets/controls",
      "model_module_version": "2.0.0",
      "model_name": "HTMLStyleModel",
      "state": {
       "description_width": "",
       "font_size": null,
       "text_color": null
      }
     },
     "702f29b0b65e4ebe90b2a25e21f38970": {
      "model_module": "@jupyter-widgets/base",
      "model_module_version": "2.0.0",
      "model_name": "LayoutModel",
      "state": {
       "grid_template_areas": "\n                                       \". . . . right \"\n                                        ",
       "grid_template_columns": "20% 20% 20% 20% 20%",
       "width": "100%"
      }
     },
     "78d2c928f096472d92706d5b3648c3e1": {
      "model_module": "@jupyter-widgets/controls",
      "model_module_version": "2.0.0",
      "model_name": "HTMLStyleModel",
      "state": {
       "description_width": "",
       "font_size": null,
       "text_color": null
      }
     },
     "7ae00285484d41c3af3960204010e06d": {
      "model_module": "@jupyter-widgets/controls",
      "model_module_version": "2.0.0",
      "model_name": "HTMLModel",
      "state": {
       "layout": "IPY_MODEL_465c203201854a55910a038805643466",
       "style": "IPY_MODEL_78d2c928f096472d92706d5b3648c3e1",
       "value": "<h5>Message</h5>"
      }
     },
     "7de84886a33e49ce9d77ba2e428a8a42": {
      "model_module": "@jupyter-widgets/base",
      "model_module_version": "2.0.0",
      "model_name": "LayoutModel",
      "state": {
       "width": "95px"
      }
     },
     "7e9bb8af556341fbb2074a6261eb4dac": {
      "model_module": "@jupyter-widgets/controls",
      "model_module_version": "2.0.0",
      "model_name": "HTMLStyleModel",
      "state": {
       "description_width": "",
       "font_size": null,
       "text_color": null
      }
     },
     "8f6d56e43b834e1bb2373026a9199fb8": {
      "model_module": "@jupyter-widgets/controls",
      "model_module_version": "2.0.0",
      "model_name": "HTMLModel",
      "state": {
       "layout": "IPY_MODEL_998e79ede6d847a6a793fcfcdddfc045",
       "style": "IPY_MODEL_7e9bb8af556341fbb2074a6261eb4dac",
       "value": "<h5>Job ID</h5>"
      }
     },
     "998e79ede6d847a6a793fcfcdddfc045": {
      "model_module": "@jupyter-widgets/base",
      "model_module_version": "2.0.0",
      "model_name": "LayoutModel",
      "state": {
       "width": "190px"
      }
     },
     "a79404bb6943413c9cc4e30e3073a527": {
      "model_module": "@jupyter-widgets/controls",
      "model_module_version": "2.0.0",
      "model_name": "HTMLStyleModel",
      "state": {
       "description_width": "",
       "font_size": null,
       "text_color": null
      }
     },
     "acb80cd9d0d5499bab807e2fc1a8d4ae": {
      "model_module": "@jupyter-widgets/controls",
      "model_module_version": "2.0.0",
      "model_name": "HTMLModel",
      "state": {
       "layout": "IPY_MODEL_ad3fee0dc82641e7adaeed3ea8435111",
       "style": "IPY_MODEL_6e7cc325cd7841fc895b7b49c7d0827b",
       "value": "<h5>Backend</h5>"
      }
     },
     "ad3fee0dc82641e7adaeed3ea8435111": {
      "model_module": "@jupyter-widgets/base",
      "model_module_version": "2.0.0",
      "model_name": "LayoutModel",
      "state": {
       "width": "145px"
      }
     },
     "ada7767425e145e687a5ea1fafd2f613": {
      "model_module": "@jupyter-widgets/controls",
      "model_module_version": "2.0.0",
      "model_name": "ButtonStyleModel",
      "state": {
       "font_family": null,
       "font_size": null,
       "font_style": null,
       "font_variant": null,
       "font_weight": null,
       "text_color": null,
       "text_decoration": null
      }
     },
     "c6c2ccad4fc241158bc35714f51a145e": {
      "model_module": "@jupyter-widgets/controls",
      "model_module_version": "2.0.0",
      "model_name": "HTMLModel",
      "state": {
       "layout": "IPY_MODEL_4872c1241eb542a99bf39e80d5305f47",
       "style": "IPY_MODEL_07271b85ebf14b79b72e251bef05ea61",
       "value": "<h5>Queue</h5>"
      }
     },
     "f3c85a517294453782c3cffe1141dc05": {
      "model_module": "@jupyter-widgets/controls",
      "model_module_version": "2.0.0",
      "model_name": "HTMLModel",
      "state": {
       "layout": "IPY_MODEL_7de84886a33e49ce9d77ba2e428a8a42",
       "style": "IPY_MODEL_521e7869d5ca4eaca549100fdab23b47",
       "value": "<h5>Status</h5>"
      }
     },
     "f78aab6c44664d259240c30394ae0b5a": {
      "model_module": "@jupyter-widgets/controls",
      "model_module_version": "2.0.0",
      "model_name": "ButtonModel",
      "state": {
       "button_style": "primary",
       "description": "Clear",
       "layout": "IPY_MODEL_53a9d68e347c498a9cd543745a020148",
       "style": "IPY_MODEL_ada7767425e145e687a5ea1fafd2f613",
       "tooltip": null
      }
     }
    },
    "version_major": 2,
    "version_minor": 0
   }
  }
 },
 "nbformat": 4,
 "nbformat_minor": 5
}
